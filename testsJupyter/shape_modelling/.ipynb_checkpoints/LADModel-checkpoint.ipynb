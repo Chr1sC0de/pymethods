{
 "cells": [
  {
   "cell_type": "code",
   "execution_count": 1,
   "metadata": {},
   "outputs": [],
   "source": [
    "import sys\n",
    "sys.path.append('../..')\n",
    "import pymethods as pm\n",
    "import pyvista as pv"
   ]
  },
  {
   "cell_type": "code",
   "execution_count": 2,
   "metadata": {},
   "outputs": [
    {
     "name": "stderr",
     "output_type": "stream",
     "text": [
      "INFO:root:The current cost is 4.273\n",
      "INFO:root:The current cost is 4.189\n",
      "INFO:root:The current cost is 4.097\n",
      "INFO:root:The current cost is 3.997\n",
      "INFO:root:The current cost is 3.893\n",
      "INFO:root:The current cost is 3.786\n",
      "INFO:root:The current cost is 3.680\n",
      "INFO:root:The current cost is 3.578\n",
      "INFO:root:The current cost is 3.483\n",
      "INFO:root:The current cost is 3.395\n",
      "INFO:root:The current cost is 3.317\n",
      "INFO:root:The current cost is 3.249\n",
      "INFO:root:The current cost is 3.191\n",
      "INFO:root:The current cost is 3.141\n",
      "INFO:root:The current cost is 3.100\n",
      "INFO:root:The current cost is 3.067\n",
      "INFO:root:The current cost is 3.040\n",
      "INFO:root:The current cost is 3.018\n",
      "INFO:root:The current cost is 3.000\n",
      "INFO:root:The current cost is 2.986\n",
      "INFO:root:The current cost is 2.975\n",
      "INFO:root:The current cost is 2.966\n",
      "INFO:root:The current cost is 2.960\n",
      "INFO:root:The current cost is 2.954\n",
      "INFO:root:The current cost is 2.950\n",
      "INFO:root:The current cost is 2.947\n",
      "INFO:root:The current cost is 2.944\n",
      "INFO:root:The current cost is 2.942\n",
      "INFO:root:The current cost is 2.941\n",
      "INFO:root:The current cost is 2.939\n",
      "INFO:root:The current cost is 2.939\n",
      "INFO:root:The current cost is 2.938\n",
      "INFO:root:The current cost is 2.937\n",
      "INFO:root:The current cost is 2.937\n",
      "INFO:root:The current cost is 2.937\n",
      "INFO:root:The current cost is 2.936\n",
      "INFO:root:The current cost is 2.936\n",
      "INFO:root:The current cost is 2.936\n",
      "INFO:root:The current cost is 2.936\n",
      "INFO:root:The current cost is 2.936\n",
      "INFO:root:The current cost is 2.936\n",
      "INFO:root:The current cost is 2.936\n",
      "INFO:root:The current cost is 2.936\n",
      "INFO:root:The current cost is 2.936\n"
     ]
    }
   ],
   "source": [
    "model = pm.algorithms.shapeModelling.CylindricalPointModel(\n",
    "        r'D:\\Github\\pymethods\\Datasets\\shape_modelling_LADs', structured_shape=(3, 360, 720))\n",
    "model.build(scale=True)"
   ]
  },
  {
   "cell_type": "code",
   "execution_count": 8,
   "metadata": {},
   "outputs": [],
   "source": [
    "p = pv.BackgroundPlotter()\n",
    "shape = model.generateShape([0, 0, 0])\n",
    "mesh = pv.StructuredGrid(*shape)\n",
    "p.add_mesh(mesh)\n",
    "p.show()"
   ]
  },
  {
   "cell_type": "code",
   "execution_count": 4,
   "metadata": {},
   "outputs": [],
   "source": [
    "p = pv.BackgroundPlotter()\n",
    "shape = model.generateShape([9, 0.3, 0.1, -2, 0.1, 3,3,3])\n",
    "mesh = pv.StructuredGrid(*shape)\n",
    "p.add_mesh(mesh)\n",
    "p.show()"
   ]
  },
  {
   "cell_type": "code",
   "execution_count": null,
   "metadata": {},
   "outputs": [],
   "source": []
  }
 ],
 "metadata": {
  "kernelspec": {
   "display_name": "Python 3",
   "language": "python",
   "name": "python3"
  },
  "language_info": {
   "codemirror_mode": {
    "name": "ipython",
    "version": 3
   },
   "file_extension": ".py",
   "mimetype": "text/x-python",
   "name": "python",
   "nbconvert_exporter": "python",
   "pygments_lexer": "ipython3",
   "version": "3.7.6"
  }
 },
 "nbformat": 4,
 "nbformat_minor": 4
}
