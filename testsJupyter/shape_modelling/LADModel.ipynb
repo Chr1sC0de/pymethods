{
 "cells": [
  {
   "cell_type": "code",
   "execution_count": 6,
   "metadata": {},
   "outputs": [],
   "source": [
    "import sys\n",
    "import pymethods as pm\n",
    "import pyvista as pv"
   ]
  },
  {
   "cell_type": "code",
   "execution_count": 7,
   "metadata": {},
   "outputs": [
    {
     "output_type": "stream",
     "name": "stderr",
     "text": "INFO:root:The current cost is 3.142\nINFO:root:The current cost is 3.142\nINFO:root:The current cost is 3.142\nthe fraction of explained variance is: 0.9265628710768699\n"
    }
   ],
   "source": [
    "model = pm.algorithms.shapeModelling.CylindricalPointModel(\n",
    "        r'../../Datasets\\shape_modelling_LADs', structured_shape=(3, 360, 720))\n",
    "model.build(scale=False, modes=10)\n",
    "print(\"the fraction of explained variance is:\", model.explained_variance())"
   ]
  },
  {
   "cell_type": "code",
   "execution_count": 8,
   "metadata": {},
   "outputs": [],
   "source": [
    "p = pv.BackgroundPlotter()\n",
    "shape = model.generateShape([0, -1, 0])\n",
    "mesh = pv.StructuredGrid(*shape)\n",
    "p.add_mesh(mesh)\n",
    "p.show()"
   ]
  },
  {
   "cell_type": "code",
   "execution_count": 9,
   "metadata": {},
   "outputs": [],
   "source": [
    "p = pv.BackgroundPlotter()\n",
    "shape = model.generateShape([3, -3, -2, -2, 3, 2,-3,3,3,3,-3,3])\n",
    "mesh = pv.StructuredGrid(*shape)\n",
    "p.add_mesh(mesh)\n",
    "p.show()"
   ]
  },
  {
   "cell_type": "code",
   "execution_count": 10,
   "metadata": {},
   "outputs": [],
   "source": [
    "pm.arrays.structured.CylindricalSurface(shape).to_stl('shape.stl')"
   ]
  },
  {
   "cell_type": "code",
   "execution_count": null,
   "metadata": {},
   "outputs": [],
   "source": []
  }
 ],
 "metadata": {
  "kernelspec": {
   "display_name": "Python 3.7.6 64-bit ('pymethodsEnv': venv)",
   "language": "python",
   "name": "python37664bitpymethodsenvvenv7089e0e63e2e4d678027aec8555f0714"
  },
  "language_info": {
   "codemirror_mode": {
    "name": "ipython",
    "version": 3
   },
   "file_extension": ".py",
   "mimetype": "text/x-python",
   "name": "python",
   "nbconvert_exporter": "python",
   "pygments_lexer": "ipython3",
   "version": "3.7.6-final"
  }
 },
 "nbformat": 4,
 "nbformat_minor": 4
}