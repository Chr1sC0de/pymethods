{
 "cells": [
  {
   "cell_type": "code",
   "execution_count": 1,
   "metadata": {},
   "outputs": [],
   "source": [
    "import sys\n",
    "sys.path.append('../..')\n",
    "import pymethods as pm\n",
    "import pyvista as pv"
   ]
  },
  {
   "cell_type": "code",
   "execution_count": 2,
   "metadata": {},
   "outputs": [
    {
     "name": "stderr",
     "output_type": "stream",
     "text": [
      "INFO:root:The current cost is 1.291\n",
      "INFO:root:The current cost is 1.291\n",
      "INFO:root:The current cost is 1.291\n"
     ]
    }
   ],
   "source": [
    "model = pm.algorithms.shapeModelling.CylindricalPointModel(\n",
    "        r'D:\\Github\\pymethods\\Datasets\\shape_modelling_LADs', structured_shape=(3, 360, 720))\n",
    "model.build(scale=True)"
   ]
  },
  {
   "cell_type": "code",
   "execution_count": 3,
   "metadata": {},
   "outputs": [],
   "source": [
    "p = pv.BackgroundPlotter()\n",
    "shape = model.generateShape([0, -10, 0])\n",
    "mesh = pv.StructuredGrid(*shape)\n",
    "p.add_mesh(mesh)\n",
    "p.show()"
   ]
  },
  {
   "cell_type": "code",
   "execution_count": 5,
   "metadata": {},
   "outputs": [],
   "source": [
    "p = pv.BackgroundPlotter()\n",
    "shape = model.generateShape([3, 2.5, -2, -2, 0.1, 2,1,3,1,3,1,2])\n",
    "mesh = pv.StructuredGrid(*shape)\n",
    "p.add_mesh(mesh)\n",
    "p.show()"
   ]
  },
  {
   "cell_type": "code",
   "execution_count": 6,
   "metadata": {},
   "outputs": [
    {
     "data": {
      "text/plain": [
       "(3, 360, 720)"
      ]
     },
     "execution_count": 6,
     "metadata": {},
     "output_type": "execute_result"
    }
   ],
   "source": [
    "shape.shape"
   ]
  },
  {
   "cell_type": "code",
   "execution_count": null,
   "metadata": {},
   "outputs": [],
   "source": []
  }
 ],
 "metadata": {
  "kernelspec": {
   "display_name": "Python 3",
   "language": "python",
   "name": "python3"
  },
  "language_info": {
   "codemirror_mode": {
    "name": "ipython",
    "version": 3
   },
   "file_extension": ".py",
   "mimetype": "text/x-python",
   "name": "python",
   "nbconvert_exporter": "python",
   "pygments_lexer": "ipython3",
   "version": "3.7.6"
  }
 },
 "nbformat": 4,
 "nbformat_minor": 4
}
