{
 "cells": [
  {
   "cell_type": "code",
   "execution_count": 1,
   "metadata": {},
   "outputs": [],
   "source": [
    "import sys\n",
    "import pymethods as pm\n",
    "import pyvista as pv"
   ]
  },
  {
   "cell_type": "code",
   "execution_count": 2,
   "metadata": {},
   "outputs": [
    {
     "output_type": "stream",
     "name": "stderr",
     "text": "INFO:root:The current cost is 5.419\nINFO:root:The current cost is 5.328\nINFO:root:The current cost is 5.229\nINFO:root:The current cost is 5.123\nINFO:root:The current cost is 5.012\nINFO:root:The current cost is 4.898\nINFO:root:The current cost is 4.785\nINFO:root:The current cost is 4.675\nINFO:root:The current cost is 4.570\nINFO:root:The current cost is 4.473\nINFO:root:The current cost is 4.384\nINFO:root:The current cost is 4.305\nINFO:root:The current cost is 4.235\nINFO:root:The current cost is 4.174\nINFO:root:The current cost is 4.122\nINFO:root:The current cost is 4.078\nINFO:root:The current cost is 4.042\nINFO:root:The current cost is 4.011\nINFO:root:The current cost is 3.986\nINFO:root:The current cost is 3.965\nINFO:root:The current cost is 3.948\nINFO:root:The current cost is 3.934\nINFO:root:The current cost is 3.923\nINFO:root:The current cost is 3.913\nINFO:root:The current cost is 3.906\nINFO:root:The current cost is 3.900\nINFO:root:The current cost is 3.895\nINFO:root:The current cost is 3.891\nINFO:root:The current cost is 3.888\nINFO:root:The current cost is 3.885\nINFO:root:The current cost is 3.883\nINFO:root:The current cost is 3.881\nINFO:root:The current cost is 3.880\nINFO:root:The current cost is 3.879\nINFO:root:The current cost is 3.878\nINFO:root:The current cost is 3.877\nINFO:root:The current cost is 3.876\nINFO:root:The current cost is 3.876\nINFO:root:The current cost is 3.875\nINFO:root:The current cost is 3.875\nINFO:root:The current cost is 3.875\nINFO:root:The current cost is 3.874\nINFO:root:The current cost is 3.874\nINFO:root:The current cost is 3.874\nINFO:root:The current cost is 3.874\nINFO:root:The current cost is 3.874\nINFO:root:The current cost is 3.874\nINFO:root:The current cost is 3.874\nINFO:root:The current cost is 3.873\nINFO:root:The current cost is 3.873\nINFO:root:The current cost is 3.873\nINFO:root:The current cost is 3.873\nINFO:root:The current cost is 3.873\nINFO:root:The current cost is 3.873\nINFO:root:The current cost is 3.873\nINFO:root:The current cost is 3.873\nINFO:root:The current cost is 3.873\nINFO:root:The current cost is 3.873\nINFO:root:The current cost is 3.873\nINFO:root:The current cost is 3.873\nINFO:root:The current cost is 3.873\nINFO:root:The current cost is 3.873\nINFO:root:The current cost is 3.873\nthe fraction of explained variance is: 0.9419938384104627\n"
    }
   ],
   "source": [
    "model = pm.algorithms.shapeModelling.CylindricalPointModel(\n",
    "        r'../../Datasets\\shape_modelling_LADs', structured_shape=(3, 360, 720))\n",
    "model.build(scale=True, modes=10)\n",
    "print(\"the fraction of explained variance is:\", model.explained_variance())"
   ]
  },
  {
   "cell_type": "code",
   "execution_count": 3,
   "metadata": {},
   "outputs": [],
   "source": [
    "p = pv.BackgroundPlotter()\n",
    "shape = model.generateShape([0, -1, 0])\n",
    "mesh = pv.StructuredGrid(*shape)\n",
    "p.add_mesh(mesh)\n",
    "p.show()"
   ]
  },
  {
   "cell_type": "code",
   "execution_count": 4,
   "metadata": {},
   "outputs": [],
   "source": [
    "p = pv.BackgroundPlotter()\n",
    "shape = model.generateShape([3, -3, -2, -2, 3, 2,-3,3,3,3,-3,3])\n",
    "mesh = pv.StructuredGrid(*shape)\n",
    "p.add_mesh(mesh)\n",
    "p.show()"
   ]
  },
  {
   "cell_type": "code",
   "execution_count": null,
   "metadata": {},
   "outputs": [],
   "source": []
  }
 ],
 "metadata": {
  "kernelspec": {
   "display_name": "Python 3.7.6 64-bit ('pymethodsEnv': venv)",
   "language": "python",
   "name": "python37664bitpymethodsenvvenv7089e0e63e2e4d678027aec8555f0714"
  },
  "language_info": {
   "codemirror_mode": {
    "name": "ipython",
    "version": 3
   },
   "file_extension": ".py",
   "mimetype": "text/x-python",
   "name": "python",
   "nbconvert_exporter": "python",
   "pygments_lexer": "ipython3",
   "version": "3.7.6-final"
  }
 },
 "nbformat": 4,
 "nbformat_minor": 4
}