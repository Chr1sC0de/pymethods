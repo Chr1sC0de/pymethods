{
 "nbformat": 4,
 "nbformat_minor": 2,
 "metadata": {
  "language_info": {
   "name": "python",
   "codemirror_mode": {
    "name": "ipython",
    "version": 3
   }
  },
  "orig_nbformat": 2,
  "file_extension": ".py",
  "mimetype": "text/x-python",
  "name": "python",
  "npconvert_exporter": "python",
  "pygments_lexer": "ipython3",
  "version": 3
 },
 "cells": [
  {
   "cell_type": "code",
   "execution_count": null,
   "metadata": {},
   "outputs": [],
   "source": [
    "import pymethods as pma"
   ]
  },
  {
   "cell_type": "code",
   "execution_count": null,
   "metadata": {},
   "outputs": [],
   "source": [
    "pma.templates.make_glf_stl_to_foammake_glf_stl_to_foam(\n",
    "    load_stl                      = 'shape.stl',\n",
    "    delta_s                       = 0.1,\n",
    "    TRexGrowthRate1               = 1.3,\n",
    "    TRexGrowthRate                = 1.1,\n",
    "    TRexMaximumLayers             = 6,\n",
    "    TRexSkewCriteriaMaximumAngle1 = 180,\n",
    "    TRexSkewCriteriaMaximumAngle  = 170,\n",
    "    setSpacing                    = 0.025,\n",
    "    polymesh_folder               = '.',\n",
    "    pointwise_name                = 'foam_project.pw',\n",
    "    file_name                     = 'stl_to_foam.glf'\n",
    "    )"
   ]
  }
 ]
}