{
 "cells": [
  {
   "cell_type": "markdown",
   "metadata": {},
   "source": [
    "# In this section we will parse a folder containing angiography data"
   ]
  },
  {
   "cell_type": "code",
   "execution_count": 42,
   "metadata": {},
   "outputs": [],
   "source": [
    "import sys\n",
    "import pymethods as pma\n",
    "import pymethods.pyplot as plt\n",
    "import pathlib as pt\n",
    "import numpy as np\n",
    "path_angio = pt.Path(r'F:\\GitHub\\algorithmsAndStructures\\testsReconstruction\\test_1\\angiography')\n",
    "folder_angio = pma.parse.angiography.Folder(path_angio)"
   ]
  },
  {
   "cell_type": "markdown",
   "metadata": {},
   "source": [
    "To view the files within the folder"
   ]
  },
  {
   "cell_type": "code",
   "execution_count": 43,
   "metadata": {},
   "outputs": [
    {
     "data": {
      "text/plain": [
       "[WindowsPath('F:/GitHub/algorithmsAndStructures/testsReconstruction/test_1/angiography/attribCurve1.data'),\n",
       " WindowsPath('F:/GitHub/algorithmsAndStructures/testsReconstruction/test_1/angiography/attribCurve2.data'),\n",
       " WindowsPath('F:/GitHub/algorithmsAndStructures/testsReconstruction/test_1/angiography/BifAnalysisInfo.data'),\n",
       " WindowsPath('F:/GitHub/algorithmsAndStructures/testsReconstruction/test_1/angiography/bifAttrib1Curve.data'),\n",
       " WindowsPath('F:/GitHub/algorithmsAndStructures/testsReconstruction/test_1/angiography/bifAttrib2Curve.data')]"
      ]
     },
     "execution_count": 43,
     "metadata": {},
     "output_type": "execute_result"
    }
   ],
   "source": [
    "folder_angio.files[0:5]"
   ]
  },
  {
   "cell_type": "markdown",
   "metadata": {},
   "source": [
    "to isolate all the filenames"
   ]
  },
  {
   "cell_type": "code",
   "execution_count": 44,
   "metadata": {},
   "outputs": [
    {
     "data": {
      "text/plain": [
       "['attribCurve1.data',\n",
       " 'attribCurve2.data',\n",
       " 'BifAnalysisInfo.data',\n",
       " 'bifAttrib1Curve.data',\n",
       " 'bifAttrib2Curve.data']"
      ]
     },
     "execution_count": 44,
     "metadata": {},
     "output_type": "execute_result"
    }
   ],
   "source": [
    "folder_angio.filenames[0:5]"
   ]
  },
  {
   "cell_type": "markdown",
   "metadata": {},
   "source": [
    "We look at the bifurcation files"
   ]
  },
  {
   "cell_type": "code",
   "execution_count": 45,
   "metadata": {},
   "outputs": [
    {
     "name": "stdout",
     "output_type": "stream",
     "text": [
      "F:\\GitHub\\algorithmsAndStructures\\testsReconstruction\\test_1\\angiography\\bifCenterline1.data\n",
      "F:\\GitHub\\algorithmsAndStructures\\testsReconstruction\\test_1\\angiography\\bifCenterline2.data\n",
      "F:\\GitHub\\algorithmsAndStructures\\testsReconstruction\\test_1\\angiography\\centerline1.data\n",
      "F:\\GitHub\\algorithmsAndStructures\\testsReconstruction\\test_1\\angiography\\centerline2.data\n"
     ]
    }
   ],
   "source": [
    "print(folder_angio.bifCenterline1.file_path)\n",
    "print(folder_angio.bifCenterline2.file_path)\n",
    "print(folder_angio.centerline1.file_path)\n",
    "print(folder_angio.centerline2.file_path)"
   ]
  },
  {
   "cell_type": "markdown",
   "metadata": {},
   "source": [
    "We now show how to extract and plot the data"
   ]
  },
  {
   "cell_type": "code",
   "execution_count": 46,
   "metadata": {},
   "outputs": [],
   "source": [
    "# Install https://github.com/matplotlib/jupyter-matplotlib to run interactive widgets\n",
    "%matplotlib widget"
   ]
  },
  {
   "cell_type": "code",
   "execution_count": 47,
   "metadata": {},
   "outputs": [
    {
     "name": "stdout",
     "output_type": "stream",
     "text": [
      "F:\\GitHub\\algorithmsAndStructures\\testsReconstruction\\test_1\\angiography\\bifCenterline1.data\n",
      "F:\\GitHub\\algorithmsAndStructures\\testsReconstruction\\test_1\\angiography\\bifCenterline2.data\n",
      "F:\\GitHub\\algorithmsAndStructures\\testsReconstruction\\test_1\\angiography\\centerline1.data\n",
      "F:\\GitHub\\algorithmsAndStructures\\testsReconstruction\\test_1\\angiography\\centerline1.data\n"
     ]
    }
   ],
   "source": [
    "print(folder_angio.bifCenterline1.file_path)\n",
    "print(folder_angio.bifCenterline2.file_path)\n",
    "print(folder_angio.centerline1.file_path)\n",
    "print(folder_angio.centerline1.file_path)"
   ]
  },
  {
   "cell_type": "code",
   "execution_count": 48,
   "metadata": {},
   "outputs": [
    {
     "data": {
      "application/vnd.jupyter.widget-view+json": {
       "model_id": "4fd52f2778794396b3a01dae4ba7fd22",
       "version_major": 2,
       "version_minor": 0
      },
      "text/plain": [
       "Canvas(toolbar=Toolbar(toolitems=[('Home', 'Reset original view', 'home', 'home'), ('Back', 'Back to previous …"
      ]
     },
     "metadata": {},
     "output_type": "display_data"
    }
   ],
   "source": [
    "folder_angio.bifCenterline1.data.scatter3d(color='red', alpha=1)\n",
    "folder_angio.bifCenterline2.data.scatter3d(alpha=0.25)\n",
    "folder_angio.centerline1.data.scatter3d(color='green', alpha=0.5)\n",
    "folder_angio.centerline2.data.scatter3d(alpha=1)\n",
    "pma.pyplot.equal_aspect_3d()\n",
    "pma.pyplot.show()"
   ]
  },
  {
   "cell_type": "markdown",
   "metadata": {},
   "source": [
    "We can interpolate extracted centerlines by calling the centerlines with some kind of linspace between 0 and 1. To truncated th centerline just input a linspace with a limit < 1"
   ]
  },
  {
   "cell_type": "code",
   "execution_count": 49,
   "metadata": {},
   "outputs": [
    {
     "data": {
      "application/vnd.jupyter.widget-view+json": {
       "model_id": "457675945a714928af23311d4239a789",
       "version_major": 2,
       "version_minor": 0
      },
      "text/plain": [
       "Canvas(toolbar=Toolbar(toolitems=[('Home', 'Reset original view', 'home', 'home'), ('Back', 'Back to previous …"
      ]
     },
     "metadata": {},
     "output_type": "display_data"
    }
   ],
   "source": [
    "plt.figure_3d()\n",
    "centerline = folder_angio.centerline1.data\n",
    "interp_centerline = centerline(np.linspace(0, 1, 20))\n",
    "truncated_centerline = centerline(np.linspace(0, 0.5, 20))\n",
    "centerline.scatter3d(alpha=0.25)\n",
    "interp_centerline.scatter3d(linewidth=5)\n",
    "truncated_centerline.plot3d('r', linewidth=8)\n",
    "pma.pyplot.equal_aspect_3d()\n",
    "pma.pyplot.show()"
   ]
  },
  {
   "cell_type": "markdown",
   "metadata": {},
   "source": [
    "Cross Section Datasets"
   ]
  },
  {
   "cell_type": "code",
   "execution_count": 50,
   "metadata": {},
   "outputs": [
    {
     "name": "stdout",
     "output_type": "stream",
     "text": [
      "F:\\GitHub\\algorithmsAndStructures\\testsReconstruction\\test_1\\angiography\\BifCoreEllipseSetellipseSet.data\n",
      "F:\\GitHub\\algorithmsAndStructures\\testsReconstruction\\test_1\\angiography\\CrossSectionEllipseSet1.data\n",
      "F:\\GitHub\\algorithmsAndStructures\\testsReconstruction\\test_1\\angiography\\CrossSectionEllipseSet2.data\n"
     ]
    }
   ],
   "source": [
    "print(folder_angio.BifCoreEllipseSetellipseSet.file_path)\n",
    "print(folder_angio.CrossSectionEllipseSet1.file_path)\n",
    "print(folder_angio.CrossSectionEllipseSet2.file_path)"
   ]
  },
  {
   "cell_type": "markdown",
   "metadata": {},
   "source": [
    "The cross sectiondatasets are lists of FlatContour Objects"
   ]
  },
  {
   "cell_type": "code",
   "execution_count": 52,
   "metadata": {},
   "outputs": [
    {
     "name": "stdout",
     "output_type": "stream",
     "text": [
      "<class 'list'>\n",
      "<class 'pymethods.arrays.Curve.FlatContour'>\n"
     ]
    }
   ],
   "source": [
    "cross_sections = folder_angio.BifCoreEllipseSetellipseSet.data\n",
    "print(cross_sections.__class__)\n",
    "print(cross_sections[0].__class__)"
   ]
  },
  {
   "cell_type": "code",
   "execution_count": 53,
   "metadata": {},
   "outputs": [
    {
     "data": {
      "application/vnd.jupyter.widget-view+json": {
       "model_id": "9192de3528eb48009ffd301a31877bcb",
       "version_major": 2,
       "version_minor": 0
      },
      "text/plain": [
       "Canvas(toolbar=Toolbar(toolitems=[('Home', 'Reset original view', 'home', 'home'), ('Back', 'Back to previous …"
      ]
     },
     "metadata": {},
     "output_type": "display_data"
    }
   ],
   "source": [
    "plt.figure_3d()\n",
    "cross_sections[0].scatter3d()\n",
    "pma.pyplot.show()"
   ]
  },
  {
   "cell_type": "markdown",
   "metadata": {},
   "source": [
    "Like the centerlines they can be interpolated and truncated"
   ]
  },
  {
   "cell_type": "code",
   "execution_count": 54,
   "metadata": {},
   "outputs": [
    {
     "data": {
      "application/vnd.jupyter.widget-view+json": {
       "model_id": "70983031f3eb46c88b169655dadb77e1",
       "version_major": 2,
       "version_minor": 0
      },
      "text/plain": [
       "Canvas(toolbar=Toolbar(toolitems=[('Home', 'Reset original view', 'home', 'home'), ('Back', 'Back to previous …"
      ]
     },
     "metadata": {},
     "output_type": "display_data"
    }
   ],
   "source": [
    "plt.figure_3d()\n",
    "cross_sections[0][:,0].scatter3d()\n",
    "cross_sections[0](np.linspace(0,1,100)).scatter3d()\n",
    "cross_sections[0](np.linspace(0,0.5,100)).scatter3d()\n",
    "pma.pyplot.show()"
   ]
  },
  {
   "cell_type": "markdown",
   "metadata": {},
   "source": [
    "We can generate and plot a basis at a different origin location using the following method"
   ]
  },
  {
   "cell_type": "code",
   "execution_count": 55,
   "metadata": {},
   "outputs": [
    {
     "data": {
      "application/vnd.jupyter.widget-view+json": {
       "model_id": "6e8e353d2b374f808133b3720f841af6",
       "version_major": 2,
       "version_minor": 0
      },
      "text/plain": [
       "Canvas(toolbar=Toolbar(toolitems=[('Home', 'Reset original view', 'home', 'home'), ('Back', 'Back to previous …"
      ]
     },
     "metadata": {},
     "output_type": "display_data"
    }
   ],
   "source": [
    "plt.figure_3d()\n",
    "pma.arrays.Basis(np.identity(3)).quiver3d(origin=[1,2,3])\n",
    "pma.pyplot.show()"
   ]
  },
  {
   "cell_type": "markdown",
   "metadata": {},
   "source": [
    "We can extract the basis from our contour objects"
   ]
  },
  {
   "cell_type": "code",
   "execution_count": 56,
   "metadata": {},
   "outputs": [
    {
     "data": {
      "application/vnd.jupyter.widget-view+json": {
       "model_id": "bf51852a5c9b4c7089583c67157519d2",
       "version_major": 2,
       "version_minor": 0
      },
      "text/plain": [
       "Canvas(toolbar=Toolbar(toolitems=[('Home', 'Reset original view', 'home', 'home'), ('Back', 'Back to previous …"
      ]
     },
     "metadata": {},
     "output_type": "display_data"
    }
   ],
   "source": [
    "plt.figure_3d()\n",
    "contour = folder_angio.BifCoreEllipseSetellipseSet.data[0]\n",
    "centroid = contour.centroid\n",
    "basis = contour.calc_basis()\n",
    "normal = contour.get_normal()\n",
    "contour.plot3d('--')\n",
    "basis.quiver3d(origin=centroid)\n",
    "normal.quiver3d(origin=centroid, color='red')\n",
    "pma.pyplot.equal_aspect_3d()\n",
    "pma.pyplot.show()"
   ]
  },
  {
   "cell_type": "markdown",
   "metadata": {},
   "source": [
    "We can show the transport frames  along our centerline in a similar fashion"
   ]
  },
  {
   "cell_type": "code",
   "execution_count": 57,
   "metadata": {},
   "outputs": [
    {
     "data": {
      "application/vnd.jupyter.widget-view+json": {
       "model_id": "a3c2582cc10a4f22b560c370f07cb02e",
       "version_major": 2,
       "version_minor": 0
      },
      "text/plain": [
       "Canvas(toolbar=Toolbar(toolitems=[('Home', 'Reset original view', 'home', 'home'), ('Back', 'Back to previous …"
      ]
     },
     "metadata": {},
     "output_type": "display_data"
    }
   ],
   "source": [
    "plt.figure_3d()\n",
    "centerline = folder_angio.bifCenterline1.data\n",
    "transport_frames = centerline.transport_frames()\n",
    "for frame, center in zip(transport_frames, centerline.T):\n",
    "    pma.arrays.Basis(frame).quiver3d(origin=center)\n",
    "centerline.plot3d()\n",
    "pma.pyplot.equal_aspect_3d()\n",
    "pma.pyplot.show()"
   ]
  },
  {
   "cell_type": "markdown",
   "metadata": {},
   "source": [
    "Let us now plot our cross sections and our centerline"
   ]
  },
  {
   "cell_type": "code",
   "execution_count": 58,
   "metadata": {},
   "outputs": [
    {
     "data": {
      "application/vnd.jupyter.widget-view+json": {
       "model_id": "9fa4ef67bf3e47e4a7b418ed8afc728f",
       "version_major": 2,
       "version_minor": 0
      },
      "text/plain": [
       "Canvas(toolbar=Toolbar(toolitems=[('Home', 'Reset original view', 'home', 'home'), ('Back', 'Back to previous …"
      ]
     },
     "metadata": {},
     "output_type": "display_data"
    }
   ],
   "source": [
    "plt.figure_3d()\n",
    "centerline.plot3d()\n",
    "for section in cross_sections:\n",
    "    section.plot3d(color='r')\n",
    "plt.equal_aspect_3d()\n",
    "plt.show()"
   ]
  },
  {
   "cell_type": "markdown",
   "metadata": {},
   "source": [
    "We can now also plot the extracted portions of the coronary tree"
   ]
  },
  {
   "cell_type": "code",
   "execution_count": 59,
   "metadata": {},
   "outputs": [
    {
     "data": {
      "application/vnd.jupyter.widget-view+json": {
       "model_id": "ef61cb8c2c864199a5ad3a9378f30a6f",
       "version_major": 2,
       "version_minor": 0
      },
      "text/plain": [
       "Canvas(toolbar=Toolbar(toolitems=[('Home', 'Reset original view', 'home', 'home'), ('Back', 'Back to previous …"
      ]
     },
     "metadata": {},
     "output_type": "display_data"
    }
   ],
   "source": [
    "plt.figure_3d()\n",
    "folder_angio.bifCenterline1.data.plot3d()\n",
    "folder_angio.bifCenterline2.data.plot3d()\n",
    "for section in folder_angio.CrossSectionEllipseSet1.data:\n",
    "    section.plot3d(color='r', linewidth=0.5)\n",
    "for section in folder_angio.CrossSectionEllipseSet2.data:\n",
    "    section.plot3d(color='g', linewidth=0.5)\n",
    "plt.equal_aspect_3d()\n",
    "plt.show()"
   ]
  },
  {
   "cell_type": "code",
   "execution_count": 33,
   "metadata": {},
   "outputs": [],
   "source": [
    "plt.close('all')"
   ]
  },
  {
   "cell_type": "code",
   "execution_count": null,
   "metadata": {},
   "outputs": [],
   "source": []
  }
 ],
 "metadata": {
  "file_extension": ".py",
  "kernelspec": {
   "display_name": "Python 3.8.1 64-bit ('torch1p4': venv)",
   "language": "python",
   "name": "python38164bittorch1p4venv81a3cf4206f045c4a35bc7d072b98125"
  },
  "language_info": {
   "codemirror_mode": {
    "name": "ipython",
    "version": 3
   },
   "file_extension": ".py",
   "mimetype": "text/x-python",
   "name": "python",
   "nbconvert_exporter": "python",
   "pygments_lexer": "ipython3",
   "version": "3.8.1"
  },
  "mimetype": "text/x-python",
  "name": "python",
  "npconvert_exporter": "python",
  "pygments_lexer": "ipython3",
  "version": 3
 },
 "nbformat": 4,
 "nbformat_minor": 4
}
