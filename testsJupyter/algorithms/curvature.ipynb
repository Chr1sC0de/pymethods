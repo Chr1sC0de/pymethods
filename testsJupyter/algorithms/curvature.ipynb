{
 "nbformat": 4,
 "nbformat_minor": 2,
 "metadata": {
  "language_info": {
   "name": "python",
   "codemirror_mode": {
    "name": "ipython",
    "version": 3
   },
   "version": "3.7.6-final"
  },
  "orig_nbformat": 2,
  "file_extension": ".py",
  "mimetype": "text/x-python",
  "name": "python",
  "npconvert_exporter": "python",
  "pygments_lexer": "ipython3",
  "version": 3,
  "kernelspec": {
   "name": "python37664bitpymethodsenvvenv7089e0e63e2e4d678027aec8555f0714",
   "display_name": "Python 3.7.6 64-bit ('pymethodsEnv': venv)"
  }
 },
 "cells": [
  {
   "cell_type": "code",
   "execution_count": 1,
   "metadata": {},
   "outputs": [],
   "source": [
    "import pymethods as pma\n",
    "import pyvista as pv\n",
    "import pathlib as pt\n",
    "import time\n",
    "openfoam_vtk_folder = pt.Path(\"../../Datasets/openfoam_vtk\")\n",
    "surface_vtk = openfoam_vtk_folder/\"WALL/WALL_400.vtk\"\n",
    "# have not yet had the time to integrate pyvista with cgal\n",
    "vtk_mesh = pv.read(surface_vtk)\n",
    "cgal_mesh = surface_mesh = pma.CGALMethods.SurfaceMesh(surface_vtk.as_posix())"
   ]
  },
  {
   "cell_type": "markdown",
   "metadata": {},
   "source": [
    "to calculate the curvature of a mesh we can apply the two following methods"
   ]
  },
  {
   "cell_type": "code",
   "execution_count": 13,
   "metadata": {},
   "outputs": [
    {
     "output_type": "stream",
     "name": "stdout",
     "text": "time taken: 33.02085614204407\n"
    }
   ],
   "source": [
    "# if the mesh is a vtk we can use the following CGALMethod to calculate the vtk, the following method applies monge form \n",
    "start = time.time()\n",
    "k_max_monge, k_min_monge = pma.algorithms.curvature_fitting.monge_surface_mesh_fitting(\n",
    "    cgal_mesh, d_fitting=3, d_monge=3, knn=300, internal=True\n",
    ")\n",
    "end = time.time()\n",
    "\n",
    "print(\"time taken:\", end-start)\n",
    ""
   ]
  },
  {
   "cell_type": "code",
   "execution_count": 6,
   "metadata": {},
   "outputs": [
    {
     "output_type": "stream",
     "name": "stdout",
     "text": "48.94011425971985\n"
    }
   ],
   "source": [
    "# if the data is a set of points, we can apply the normal section fitting method\n",
    "points = surface_mesh.points()\n",
    "\n",
    "start = time.time()\n",
    "# assumes the points are in the form dims * points\n",
    "point_surface = pma.arrays.Pointsurface(points.T)\n",
    "# the following is the is ordered max, min\n",
    "k_max_min, d_max_min = point_surface.compute_principle_curvatures(\n",
    "    neighbours=300, external=False\n",
    ")\n",
    "end = time.time()\n",
    "\n",
    "print(end-start)"
   ]
  },
  {
   "cell_type": "code",
   "execution_count": 12,
   "metadata": {},
   "outputs": [],
   "source": [
    "plotter_1 = pv.BackgroundPlotter()\n",
    "mesh_1 = pv.PolyData(points)\n",
    "mesh_1.point_arrays['max_curvature'] = k_max_monge\n",
    "plotter_1.add_mesh(mesh_1)\n",
    "plotter_1.show()\n",
    ""
   ]
  },
  {
   "cell_type": "code",
   "execution_count": 11,
   "metadata": {},
   "outputs": [],
   "source": [
    "plotter_2 = pv.BackgroundPlotter()\n",
    "mesh_2 = pv.PolyData(points)\n",
    "mesh_2.point_arrays['max_curvature'] = k_max_min[0]\n",
    "plotter_2.add_mesh(mesh_2)\n",
    "plotter_2.show()"
   ]
  }
 ]
}