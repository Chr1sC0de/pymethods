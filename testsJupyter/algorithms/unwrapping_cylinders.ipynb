{
 "nbformat": 4,
 "nbformat_minor": 2,
 "metadata": {
  "language_info": {
   "name": "python",
   "codemirror_mode": {
    "name": "ipython",
    "version": 3
   },
   "version": "3.7.6-final"
  },
  "orig_nbformat": 2,
  "file_extension": ".py",
  "mimetype": "text/x-python",
  "name": "python",
  "npconvert_exporter": "python",
  "pygments_lexer": "ipython3",
  "version": 3,
  "kernelspec": {
   "name": "python37664bitpymethodsenvvenv7089e0e63e2e4d678027aec8555f0714",
   "display_name": "Python 3.7.6 64-bit ('pymethodsEnv': venv)"
  }
 },
 "cells": [
  {
   "cell_type": "code",
   "execution_count": null,
   "metadata": {},
   "outputs": [],
   "source": [
    "import pymethods as pma\n",
    "import pyvista as pv\n",
    "import pathlib as pt\n",
    "import time\n",
    "openfoam_vtk_folder = pt.Path(\"../../Datasets/openfoam_vtk\")\n",
    "surface_vtk_path = openfoam_vtk_folder/\"WALL/WALL_400.vtk\"\n",
    "# have not yet had the time to integrate pyvista with cgal\n",
    "vtk_mesh = pv.read(surface_vtk)\n",
    "cgal_mesh = surface_mesh = pma.CGALMethods.SurfaceMesh(surface_vtk.as_posix())"
   ]
  },
  {
   "cell_type": "code",
   "execution_count": 1,
   "metadata": {},
   "outputs": [],
   "source": [
    "# with the following method we unwrap the artery using CGAL and then map the solution to a grid\n",
    "unwrapped_cgalmesh = pma.CGALMethods.SurfaceMesh(cgal_mesh)\n",
    "gridded = CM.map_parameterized_mesh_to_grid(unwrapped)"
   ]
  },
  {
   "cell_type": "code",
   "execution_count": null,
   "metadata": {},
   "outputs": [],
   "source": [
    "# this method unwraps the vtk cylindrical mesh by finding the centerline\n",
    "\n",
    "# the centerline finder method requires a cgal mesh\n",
    "centerline = pma.algorithms.unwrapping.get_centerline_from_cylindrical_mesh(cgal_mesh)\n",
    "# the centerline returned is an object parameterized by its arclength so we can obtain equally spaced points through the following\n",
    "centerline = centerline(np.linspace(0,1, 384))\n",
    "# now we can unwrap the vtk mesh using the cgal mesh, as of yet cgal and vtk have not been properly integrated\n",
    "vtk_mesh = pma.algorithms.unwrapping.unwrap_cylinder_vtk_from_centerline(centerline, vtk_mesh, points_per_contour=256)"
   ]
  }
 ]
}