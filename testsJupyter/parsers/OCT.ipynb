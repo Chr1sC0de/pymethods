{
 "cells": [
  {
   "cell_type": "markdown",
   "metadata": {},
   "source": [
    "# Parsing A Directory of OCT images"
   ]
  },
  {
   "cell_type": "code",
   "execution_count": 1,
   "metadata": {},
   "outputs": [],
   "source": [
    "import sys\n",
    "sys.path.append('../..')\n",
    "import pymethods as pma\n",
    "import pymethods.pyplot as plt\n",
    "import pathlib as pt\n",
    "import numpy as np\n",
    "from time import time"
   ]
  },
  {
   "cell_type": "code",
   "execution_count": 2,
   "metadata": {},
   "outputs": [],
   "source": [
    "path = pt.Path(r'../../Datasets/test_1/oct')"
   ]
  },
  {
   "cell_type": "markdown",
   "metadata": {},
   "source": [
    "Instantiate the folder object"
   ]
  },
  {
   "cell_type": "code",
   "execution_count": 3,
   "metadata": {},
   "outputs": [],
   "source": [
    "octFolder = pma.parse.ivoct.Folder(path)"
   ]
  },
  {
   "cell_type": "markdown",
   "metadata": {},
   "source": [
    "A little bit of an aside but within utilts we have a time convenience function"
   ]
  },
  {
   "cell_type": "code",
   "execution_count": 4,
   "metadata": {},
   "outputs": [
    {
     "output_type": "stream",
     "name": "stdout",
     "text": "the total time taken is:  0.009995222091674805\nthe ouput of test is:  100011\n"
    }
   ],
   "source": [
    "def test(x, potatoe=10):\n",
    "    for i in range(10**5):\n",
    "        x += 1\n",
    "    return x + potatoe\n",
    "\n",
    "time, output = pma.utils.time_func(test, 1, potatoe=10)\n",
    "print('the total time taken is: ', time)\n",
    "print('the ouput of test is: ', output)"
   ]
  },
  {
   "cell_type": "markdown",
   "metadata": {},
   "source": [
    "Now back to business, we can parse the data from our OCT folder by calling the parse method. However as there is quite alot of images we need to parse, the processsing time can be a bit slow"
   ]
  },
  {
   "cell_type": "code",
   "execution_count": 5,
   "metadata": {},
   "outputs": [
    {
     "output_type": "stream",
     "name": "stderr",
     "text": "INFO:root:Extracting Contours and Landmark Data from Images\nthe total time taken: 40.23522162437439  seconds\n"
    }
   ],
   "source": [
    "time, outputs = pma.utils.time_func(octFolder.parse,)\n",
    "print('the total time taken:', time,' seconds')"
   ]
  },
  {
   "cell_type": "markdown",
   "metadata": {},
   "source": [
    "We can speed things up by processing images in parallel through multiprocessing."
   ]
  },
  {
   "cell_type": "code",
   "execution_count": 6,
   "metadata": {},
   "outputs": [
    {
     "output_type": "stream",
     "name": "stderr",
     "text": "INFO:root:Extracting Contours and Landmark Data from Images\ndone\nthe total time taken: 29.783103227615356  seconds\n"
    }
   ],
   "source": [
    "time, outputs = pma.utils.time_func(octFolder.parse, processors=8)\n",
    "print('the total time taken:', time,' seconds')"
   ]
  },
  {
   "cell_type": "markdown",
   "metadata": {},
   "source": [
    "The data we have parsed can be extracted as a dictionary using the data getter"
   ]
  },
  {
   "cell_type": "code",
   "execution_count": 7,
   "metadata": {},
   "outputs": [
    {
     "output_type": "stream",
     "name": "stdout",
     "text": "dict_keys(['contours', 'landmark', 'id', 'image_files', 'landmark_path'])\n"
    }
   ],
   "source": [
    "data_dict = octFolder.data()\n",
    "print(data_dict.keys())"
   ]
  },
  {
   "cell_type": "code",
   "execution_count": 8,
   "metadata": {},
   "outputs": [],
   "source": [
    "import matplotlib\n",
    "%matplotlib widget"
   ]
  },
  {
   "cell_type": "markdown",
   "metadata": {},
   "source": [
    "Contours shows a list of contours"
   ]
  },
  {
   "cell_type": "code",
   "execution_count": 9,
   "metadata": {},
   "outputs": [
    {
     "output_type": "display_data",
     "data": {
      "text/plain": "Canvas(toolbar=Toolbar(toolitems=[('Home', 'Reset original view', 'home', 'home'), ('Back', 'Back to previous …",
      "application/vnd.jupyter.widget-view+json": {
       "version_major": 2,
       "version_minor": 0,
       "model_id": "c2fd5139fed1434d89d132334ae557e1"
      }
     },
     "metadata": {}
    }
   ],
   "source": [
    "plt.figure_3d()\n",
    "data_dict['contours'][0].scatter3d()\n",
    "plt.show()"
   ]
  },
  {
   "cell_type": "code",
   "execution_count": 10,
   "metadata": {},
   "outputs": [
    {
     "output_type": "display_data",
     "data": {
      "text/plain": "Canvas(toolbar=Toolbar(toolitems=[('Home', 'Reset original view', 'home', 'home'), ('Back', 'Back to previous …",
      "application/vnd.jupyter.widget-view+json": {
       "version_major": 2,
       "version_minor": 0,
       "model_id": "5d66e3d82b2e46879c0d575af5293f4e"
      }
     },
     "metadata": {}
    },
    {
     "output_type": "execute_result",
     "data": {
      "text/plain": "<matplotlib.legend.Legend at 0x28a27d95a88>"
     },
     "metadata": {},
     "execution_count": 10
    }
   ],
   "source": [
    "# we can load an OCT image with either the Image class from parse.ivoct or arrays.structured.Image\n",
    "bif_image = pma.parse.ivoct.Image(data_dict['landmark_path'])\n",
    "bif_contour = data_dict['contours'][data_dict['id']]\n",
    "# our landmark is a vector pointint from the origin of the contour to the specified blue dot\n",
    "bif_dot = data_dict['landmark'] + bif_contour.centroid\n",
    "plt.figure()\n",
    "bif_image.show()\n",
    "plt.plot(*bif_contour[0:2,::10], 'b--', label='contour')\n",
    "bif_dot.scatter2d(label='landmark')\n",
    "plt.show()\n",
    "plt.legend()"
   ]
  },
  {
   "cell_type": "markdown",
   "metadata": {},
   "source": [
    "We can now save our parsed data"
   ]
  },
  {
   "cell_type": "code",
   "execution_count": 11,
   "metadata": {},
   "outputs": [],
   "source": [
    "octFolder.save()"
   ]
  },
  {
   "cell_type": "markdown",
   "metadata": {},
   "source": [
    "We can load the data from scratch, starting from a new object by calling the load method."
   ]
  },
  {
   "cell_type": "code",
   "execution_count": 12,
   "metadata": {},
   "outputs": [],
   "source": [
    "octFolder2 = pma.parse.ivoct.Folder(path)\n",
    "octFolder2.load()"
   ]
  },
  {
   "cell_type": "code",
   "execution_count": 13,
   "metadata": {},
   "outputs": [
    {
     "output_type": "display_data",
     "data": {
      "text/plain": "Canvas(toolbar=Toolbar(toolitems=[('Home', 'Reset original view', 'home', 'home'), ('Back', 'Back to previous …",
      "application/vnd.jupyter.widget-view+json": {
       "version_major": 2,
       "version_minor": 0,
       "model_id": "6a4cfc2a5d2a4d3fbead6716bc1656c1"
      }
     },
     "metadata": {}
    },
    {
     "output_type": "execute_result",
     "data": {
      "text/plain": "<matplotlib.legend.Legend at 0x28a27df6e88>"
     },
     "metadata": {},
     "execution_count": 13
    }
   ],
   "source": [
    "data_dict = octFolder2.data()\n",
    "# we can load an OCT image using either the Image class from parse.ivoct or arrays.structured.Image\n",
    "bif_image = pma.parse.ivoct.Image(data_dict['landmark_path'])\n",
    "bif_contour = data_dict['contours'][data_dict['id']]\n",
    "# out landmark is a vector pointint from the origin of the contour to the specified blue dot\n",
    "bif_dot = data_dict['landmark'] + bif_contour.centroid\n",
    "plt.figure()\n",
    "bif_image.show()\n",
    "plt.plot(*bif_contour[0:2,::10], 'b--', label='contour')\n",
    "bif_dot.scatter2d(label='landmark')\n",
    "plt.show()\n",
    "plt.legend()"
   ]
  },
  {
   "cell_type": "code",
   "execution_count": null,
   "metadata": {},
   "outputs": [],
   "source": []
  }
 ],
 "metadata": {
  "kernelspec": {
   "display_name": "Python 3.7.6 64-bit ('pymethodsEnv': venv)",
   "language": "python",
   "name": "python37664bitpymethodsenvvenv7089e0e63e2e4d678027aec8555f0714"
  },
  "language_info": {
   "codemirror_mode": {
    "name": "ipython",
    "version": 3
   },
   "file_extension": ".py",
   "mimetype": "text/x-python",
   "name": "python",
   "nbconvert_exporter": "python",
   "pygments_lexer": "ipython3",
   "version": "3.7.6-final"
  }
 },
 "nbformat": 4,
 "nbformat_minor": 4
}