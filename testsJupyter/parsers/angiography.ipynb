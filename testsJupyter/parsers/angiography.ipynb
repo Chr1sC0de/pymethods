{
 "cells": [
  {
   "cell_type": "markdown",
   "metadata": {},
   "source": [
    "# Parsing A Directory of Angiography Data"
   ]
  },
  {
   "cell_type": "markdown",
   "metadata": {},
   "source": [
    "Let us start by loading in the necessary modules"
   ]
  },
  {
   "cell_type": "code",
   "execution_count": 1,
   "metadata": {},
   "outputs": [],
   "source": [
    "import sys\n",
    "sys.path.append('../..')\n",
    "import pymethods as pma\n",
    "import pymethods.pyplot as plt\n",
    "import pathlib as pt\n",
    "import numpy as np\n",
    "import pyvista as pv"
   ]
  },
  {
   "cell_type": "markdown",
   "metadata": {},
   "source": [
    "Instantiate Folder object"
   ]
  },
  {
   "cell_type": "code",
   "execution_count": 2,
   "metadata": {},
   "outputs": [],
   "source": [
    "path_angio = pt.Path(r'../../Datasets/test_1/angiography')\n",
    "folder_angio = pma.parse.angiography.Folder(path_angio)"
   ]
  },
  {
   "cell_type": "markdown",
   "metadata": {},
   "source": [
    "To view the files within the folder call the files object"
   ]
  },
  {
   "cell_type": "code",
   "execution_count": 3,
   "metadata": {},
   "outputs": [
    {
     "output_type": "execute_result",
     "data": {
      "text/plain": "[WindowsPath('../../Datasets/test_1/angiography/attribCurve1.data'),\n WindowsPath('../../Datasets/test_1/angiography/attribCurve2.data'),\n WindowsPath('../../Datasets/test_1/angiography/BifAnalysisInfo.data'),\n WindowsPath('../../Datasets/test_1/angiography/bifAttrib1Curve.data'),\n WindowsPath('../../Datasets/test_1/angiography/bifAttrib2Curve.data')]"
     },
     "metadata": {},
     "execution_count": 3
    }
   ],
   "source": [
    "# the files property is a list showing the path to all the files contained within the angiography directory\n",
    "folder_angio.files[0:5]"
   ]
  },
  {
   "cell_type": "markdown",
   "metadata": {},
   "source": [
    "to isolate all the filenames we can use the filenames property"
   ]
  },
  {
   "cell_type": "code",
   "execution_count": 4,
   "metadata": {},
   "outputs": [
    {
     "output_type": "execute_result",
     "data": {
      "text/plain": "['attribCurve1.data',\n 'attribCurve2.data',\n 'BifAnalysisInfo.data',\n 'bifAttrib1Curve.data',\n 'bifAttrib2Curve.data']"
     },
     "metadata": {},
     "execution_count": 4
    }
   ],
   "source": [
    "folder_angio.filenames[0:5]"
   ]
  },
  {
   "cell_type": "markdown",
   "metadata": {},
   "source": [
    "For key files we can generate Data objects which have parsed the data files in the angiography folder."
   ]
  },
  {
   "cell_type": "code",
   "execution_count": 5,
   "metadata": {
    "tags": []
   },
   "outputs": [
    {
     "output_type": "stream",
     "name": "stdout",
     "text": "<pymethods.parse.angiography.AngiographyData.Data object at 0x0000029412B39F88>\n<pymethods.parse.angiography.AngiographyData.Data object at 0x0000029412B6FD48>\n<pymethods.parse.angiography.AngiographyData.Data object at 0x0000029412B5BFC8>\n<pymethods.parse.angiography.AngiographyData.Data object at 0x000002940B94AAC8>\n<pymethods.parse.angiography.AngiographyData.Data object at 0x0000029412B76448>\n<pymethods.parse.angiography.AngiographyData.Data object at 0x0000029412B6FC48>\n<pymethods.parse.angiography.AngiographyData.Data object at 0x0000029412554248>\n"
    }
   ],
   "source": [
    "print(folder_angio.bifCenterline1)\n",
    "print(folder_angio.bifCenterline2)\n",
    "print(folder_angio.centerline1)\n",
    "print(folder_angio.centerline2)\n",
    "print(folder_angio.BifCoreEllipseSetellipseSet)\n",
    "print(folder_angio.CrossSectionEllipseSet1)\n",
    "print(folder_angio.CrossSectionEllipseSet2)"
   ]
  },
  {
   "cell_type": "markdown",
   "metadata": {},
   "source": [
    "## Data Objects"
   ]
  },
  {
   "cell_type": "markdown",
   "metadata": {},
   "source": [
    "From a Data object we can view the original file path by calling the \"file_path\" property"
   ]
  },
  {
   "cell_type": "code",
   "execution_count": 6,
   "metadata": {
    "tags": []
   },
   "outputs": [
    {
     "output_type": "stream",
     "name": "stdout",
     "text": "..\\..\\Datasets\\test_1\\angiography\\bifCenterline1.data\n..\\..\\Datasets\\test_1\\angiography\\bifCenterline2.data\n..\\..\\Datasets\\test_1\\angiography\\centerline1.data\n..\\..\\Datasets\\test_1\\angiography\\centerline1.data\n..\\..\\Datasets\\test_1\\angiography\\BifCoreEllipseSetellipseSet.data\n..\\..\\Datasets\\test_1\\angiography\\CrossSectionEllipseSet1.data\n..\\..\\Datasets\\test_1\\angiography\\CrossSectionEllipseSet2.data\n"
    }
   ],
   "source": [
    "print(folder_angio.bifCenterline1.file_path)\n",
    "print(folder_angio.bifCenterline2.file_path)\n",
    "print(folder_angio.centerline1.file_path)\n",
    "print(folder_angio.centerline1.file_path)\n",
    "print(folder_angio.BifCoreEllipseSetellipseSet.file_path)\n",
    "print(folder_angio.CrossSectionEllipseSet1.file_path)\n",
    "print(folder_angio.CrossSectionEllipseSet2.file_path)"
   ]
  },
  {
   "cell_type": "markdown",
   "metadata": {},
   "source": [
    "There a multiple data structure types within the angiography folder, we can view which class our object is using the data_class property"
   ]
  },
  {
   "cell_type": "code",
   "execution_count": 7,
   "metadata": {
    "tags": []
   },
   "outputs": [
    {
     "output_type": "stream",
     "name": "stdout",
     "text": "LkebCurve\nLkebCurve\nLkebCurve\nLkebCurve\nLkebCurveSet\nLkebCurveSet\nLkebCurveSet\n"
    }
   ],
   "source": [
    "print(folder_angio.bifCenterline1.data_class)\n",
    "print(folder_angio.bifCenterline2.data_class)\n",
    "print(folder_angio.centerline1.data_class)\n",
    "print(folder_angio.centerline1.data_class)\n",
    "print(folder_angio.BifCoreEllipseSetellipseSet.data_class)\n",
    "print(folder_angio.CrossSectionEllipseSet1.data_class)\n",
    "print(folder_angio.CrossSectionEllipseSet2.data_class)"
   ]
  },
  {
   "cell_type": "markdown",
   "metadata": {},
   "source": [
    "We can directly view the parsed data of our object with the data method"
   ]
  },
  {
   "cell_type": "code",
   "execution_count": 8,
   "metadata": {
    "tags": []
   },
   "outputs": [
    {
     "output_type": "stream",
     "name": "stdout",
     "text": "<class 'pymethods.arrays.Curve.Curve'>\n<class 'list'>\n"
    }
   ],
   "source": [
    "# NOTE __class__ is a property of an object indicating which class they come from\n",
    "print(folder_angio.centerline1.data.__class__)\n",
    "print(folder_angio.BifCoreEllipseSetellipseSet.data.__class__)"
   ]
  },
  {
   "cell_type": "markdown",
   "metadata": {},
   "source": [
    "# LkebCurve"
   ]
  },
  {
   "cell_type": "markdown",
   "metadata": {},
   "source": [
    "An LkebCurve is a singular curve (normally a centerline). We have parsed the LkebCurve data into a Curve object. These objects contain methods to conveniently plot and visualize. We show how to plot a 3-dimensional scatter plot of varios degrees of opacity (alpha=?) and color (color=?). The ensure that the grid spacing is \"almost\" equal we apply the pma.pyplot.equal_aspect_3d() method, and finally we run the pma.pyplot.show() function to show the figure in the notebook."
   ]
  },
  {
   "cell_type": "markdown",
   "metadata": {},
   "source": [
    "To view interactive widgets install https://github.com/matplotlib/jupyter-matplotlib"
   ]
  },
  {
   "cell_type": "code",
   "execution_count": 9,
   "metadata": {},
   "outputs": [],
   "source": [
    "%matplotlib widget"
   ]
  },
  {
   "cell_type": "code",
   "execution_count": 10,
   "metadata": {},
   "outputs": [
    {
     "output_type": "display_data",
     "data": {
      "text/plain": "Canvas(toolbar=Toolbar(toolitems=[('Home', 'Reset original view', 'home', 'home'), ('Back', 'Back to previous …",
      "application/vnd.jupyter.widget-view+json": {
       "version_major": 2,
       "version_minor": 0,
       "model_id": "a301c37034d6493e8eec3fd349ded070"
      }
     },
     "metadata": {}
    }
   ],
   "source": [
    "folder_angio.bifCenterline1.data.scatter3d(color='red', alpha=1)\n",
    "folder_angio.bifCenterline2.data.scatter3d(color='pink', alpha=0.25)\n",
    "folder_angio.centerline1.data.scatter3d(color='green', alpha=0.5)\n",
    "folder_angio.centerline2.data.scatter3d(alpha=1)\n",
    "pma.pyplot.equal_aspect_3d()\n",
    "pma.pyplot.show()"
   ]
  },
  {
   "cell_type": "markdown",
   "metadata": {},
   "source": [
    "We can plot lines by using the plot3d method"
   ]
  },
  {
   "cell_type": "code",
   "execution_count": 11,
   "metadata": {},
   "outputs": [
    {
     "output_type": "display_data",
     "data": {
      "text/plain": "Canvas(toolbar=Toolbar(toolitems=[('Home', 'Reset original view', 'home', 'home'), ('Back', 'Back to previous …",
      "application/vnd.jupyter.widget-view+json": {
       "version_major": 2,
       "version_minor": 0,
       "model_id": "2b2e6e02aa6840d4922620544c08df51"
      }
     },
     "metadata": {}
    }
   ],
   "source": [
    "pma.pyplot.figure_3d()\n",
    "folder_angio.bifCenterline1.data.plot3d(color='red', alpha=1)\n",
    "folder_angio.bifCenterline2.data.plot3d(alpha=0.25)\n",
    "folder_angio.centerline1.data.plot3d(color='green', alpha=0.5)\n",
    "folder_angio.centerline2.data.plot3d(alpha=1)\n",
    "pma.pyplot.equal_aspect_3d()\n",
    "pma.pyplot.show()"
   ]
  },
  {
   "cell_type": "markdown",
   "metadata": {},
   "source": [
    "We can interpolate extracted centerlines by calling the centerlines with some kind of linspace between 0 and 1. To truncate the centerline just input a linspace with an upper/lower limit [0,1]. The interpolation is perfomed using B-Splines generated from the scipy library https://docs.scipy.org/doc/scipy/reference/generated/scipy.interpolate.splrep.html"
   ]
  },
  {
   "cell_type": "code",
   "execution_count": 12,
   "metadata": {},
   "outputs": [
    {
     "output_type": "display_data",
     "data": {
      "text/plain": "Canvas(toolbar=Toolbar(toolitems=[('Home', 'Reset original view', 'home', 'home'), ('Back', 'Back to previous …",
      "application/vnd.jupyter.widget-view+json": {
       "version_major": 2,
       "version_minor": 0,
       "model_id": "d84a179d5dd641948067a79787b92749"
      }
     },
     "metadata": {}
    }
   ],
   "source": [
    "plt.figure_3d()\n",
    "centerline = folder_angio.centerline1.data\n",
    "interp_centerline = centerline(np.linspace(0, 1, 20))\n",
    "truncated_centerline = centerline(np.linspace(0, 0.5, 20))\n",
    "centerline.plot3d(alpha=0.25)\n",
    "interp_centerline.scatter3d(linewidth=5)\n",
    "truncated_centerline.plot3d('r', linewidth=8)\n",
    "pma.pyplot.equal_aspect_3d()\n",
    "pma.pyplot.show()"
   ]
  },
  {
   "cell_type": "markdown",
   "metadata": {},
   "source": [
    "We can also show the curve frames along the centerline by calling the transport_frames method on a curve. The transport frames are calculated through the algorithm described in https://janakiev.com/blog/framing-parametric-curves/"
   ]
  },
  {
   "cell_type": "code",
   "execution_count": 13,
   "metadata": {},
   "outputs": [
    {
     "output_type": "display_data",
     "data": {
      "text/plain": "Canvas(toolbar=Toolbar(toolitems=[('Home', 'Reset original view', 'home', 'home'), ('Back', 'Back to previous …",
      "application/vnd.jupyter.widget-view+json": {
       "version_major": 2,
       "version_minor": 0,
       "model_id": "a520ce794b174206818a1f91226558fc"
      }
     },
     "metadata": {}
    }
   ],
   "source": [
    "plt.figure_3d()\n",
    "centerline = folder_angio.bifCenterline1.data\n",
    "transport_frames = centerline.transport_frames()\n",
    "\n",
    "# NOTE: the ::2 notation means to skip eveery second basis\n",
    "\n",
    "for frame, center in zip(transport_frames[::2,:,:], centerline.T[::2,:]):\n",
    "    pma.arrays.Basis(frame).quiver3d(origin=center)\n",
    "centerline.plot3d()\n",
    "pma.pyplot.equal_aspect_3d()\n",
    "pma.pyplot.show()"
   ]
  },
  {
   "cell_type": "markdown",
   "metadata": {},
   "source": [
    "# LkebCurveSet"
   ]
  },
  {
   "cell_type": "markdown",
   "metadata": {},
   "source": [
    "An LkebCurveSet is a set of curves, and is normally a set of cross sections"
   ]
  },
  {
   "cell_type": "markdown",
   "metadata": {},
   "source": [
    "The cross sectiondatasets are lists of FlatContour Objects"
   ]
  },
  {
   "cell_type": "code",
   "execution_count": 14,
   "metadata": {
    "tags": []
   },
   "outputs": [
    {
     "output_type": "stream",
     "name": "stdout",
     "text": "<class 'list'>\n<class 'pymethods.arrays.Curve.FlatContour'>\n"
    }
   ],
   "source": [
    "cross_sections = folder_angio.BifCoreEllipseSetellipseSet.data\n",
    "print(cross_sections.__class__)\n",
    "print(cross_sections[0].__class__)"
   ]
  },
  {
   "cell_type": "markdown",
   "metadata": {},
   "source": [
    "We can plot the cross sections by indexing an individual cross section from an ellipse and calling the convenience functions"
   ]
  },
  {
   "cell_type": "code",
   "execution_count": 15,
   "metadata": {},
   "outputs": [
    {
     "output_type": "display_data",
     "data": {
      "text/plain": "Canvas(toolbar=Toolbar(toolitems=[('Home', 'Reset original view', 'home', 'home'), ('Back', 'Back to previous …",
      "application/vnd.jupyter.widget-view+json": {
       "version_major": 2,
       "version_minor": 0,
       "model_id": "400c91b9954447c88bb0bae02105c0ba"
      }
     },
     "metadata": {}
    }
   ],
   "source": [
    "plt.figure_3d()\n",
    "cross_sections[0].scatter3d()\n",
    "cross_sections[0].plot3d()\n",
    "pma.pyplot.show()"
   ]
  },
  {
   "cell_type": "markdown",
   "metadata": {},
   "source": [
    "Contours inherit from the Curve class and like the centerlines they can be interpolated and truncated"
   ]
  },
  {
   "cell_type": "code",
   "execution_count": 16,
   "metadata": {},
   "outputs": [
    {
     "output_type": "display_data",
     "data": {
      "text/plain": "Canvas(toolbar=Toolbar(toolitems=[('Home', 'Reset original view', 'home', 'home'), ('Back', 'Back to previous …",
      "application/vnd.jupyter.widget-view+json": {
       "version_major": 2,
       "version_minor": 0,
       "model_id": "141daa0288c34193a22d377133dc6f05"
      }
     },
     "metadata": {}
    }
   ],
   "source": [
    "plt.figure_3d()\n",
    "# start of section \n",
    "cross_sections[0][:,0].scatter3d(color='green')\n",
    "# interpolated curve\n",
    "cross_sections[0](np.linspace(0,1,100)).plot3d()\n",
    "# as we do not want to close the curve we must set the close option to False\n",
    "cross_sections[0](np.linspace(0,0.5,100), close=False)[:,0:-1].plot3d()\n",
    "# end of section \n",
    "cross_sections[0](np.linspace(0,0.5,100), close=False)[:,-1].scatter3d(color='red')\n",
    "pma.pyplot.show()"
   ]
  },
  {
   "cell_type": "markdown",
   "metadata": {},
   "source": [
    "We can extract information about our contour such as the centroid and basis"
   ]
  },
  {
   "cell_type": "code",
   "execution_count": 17,
   "metadata": {},
   "outputs": [
    {
     "output_type": "display_data",
     "data": {
      "text/plain": "Canvas(toolbar=Toolbar(toolitems=[('Home', 'Reset original view', 'home', 'home'), ('Back', 'Back to previous …",
      "application/vnd.jupyter.widget-view+json": {
       "version_major": 2,
       "version_minor": 0,
       "model_id": "958f0968cfd74a6bb8663a03f1f6a4b3"
      }
     },
     "metadata": {}
    }
   ],
   "source": [
    "plt.figure_3d()\n",
    "contour = folder_angio.BifCoreEllipseSetellipseSet.data[0]\n",
    "\n",
    "centroid = contour.centroid\n",
    "\n",
    "basis = contour.calc_basis()\n",
    "normal = contour.get_normal()\n",
    "\n",
    "contour.plot3d()\n",
    "basis.quiver3d(origin=centroid)\n",
    "normal.quiver3d(origin=centroid, color='red')\n",
    "centroid.scatter3d()\n",
    "pma.pyplot.equal_aspect_3d()\n",
    "pma.pyplot.show()"
   ]
  },
  {
   "cell_type": "markdown",
   "metadata": {},
   "source": [
    "# Plotting the Tree"
   ]
  },
  {
   "cell_type": "markdown",
   "metadata": {},
   "source": [
    "We can now also plot the extracted portions of the coronary tree"
   ]
  },
  {
   "cell_type": "code",
   "execution_count": 18,
   "metadata": {},
   "outputs": [
    {
     "output_type": "display_data",
     "data": {
      "text/plain": "Canvas(toolbar=Toolbar(toolitems=[('Home', 'Reset original view', 'home', 'home'), ('Back', 'Back to previous …",
      "application/vnd.jupyter.widget-view+json": {
       "version_major": 2,
       "version_minor": 0,
       "model_id": "fb9d0a245e0b4e8fbf145506696272c9"
      }
     },
     "metadata": {}
    }
   ],
   "source": [
    "plt.figure_3d()\n",
    "folder_angio.bifCenterline1.data.plot3d()\n",
    "folder_angio.bifCenterline2.data.plot3d()\n",
    "for section in folder_angio.CrossSectionEllipseSet1.data:\n",
    "    section.plot3d(color='r', linewidth=0.5)\n",
    "for section in folder_angio.CrossSectionEllipseSet2.data:\n",
    "    section.plot3d(color='g', linewidth=0.5)\n",
    "plt.equal_aspect_3d()\n",
    "plt.show()"
   ]
  },
  {
   "cell_type": "markdown",
   "metadata": {},
   "source": [
    "We observe that the surfaces not meshable for CFD just yet"
   ]
  },
  {
   "cell_type": "markdown",
   "metadata": {},
   "source": [
    "# Smoothing the surfaces"
   ]
  },
  {
   "cell_type": "markdown",
   "metadata": {},
   "source": [
    "As the data is not smooth it will be difficult to generate a surface, thus the easiest way to generate the surface is to reinterpolate our surfaces and smooth"
   ]
  },
  {
   "cell_type": "code",
   "execution_count": 19,
   "metadata": {},
   "outputs": [],
   "source": [
    "centerline = folder_angio.bifCenterline1.data\n",
    "contours = folder_angio.CrossSectionEllipseSet1.data"
   ]
  },
  {
   "cell_type": "code",
   "execution_count": 20,
   "metadata": {},
   "outputs": [
    {
     "output_type": "display_data",
     "data": {
      "text/plain": "Canvas(toolbar=Toolbar(toolitems=[('Home', 'Reset original view', 'home', 'home'), ('Back', 'Back to previous …",
      "application/vnd.jupyter.widget-view+json": {
       "version_major": 2,
       "version_minor": 0,
       "model_id": "282a31cd687945f281f58e9883743c4d"
      }
     },
     "metadata": {}
    }
   ],
   "source": [
    "plt.figure_3d()\n",
    "centerline.plot3d()\n",
    "[contour.plot3d('b', alpha=0.4) for contour in contours]\n",
    "plt.equal_aspect_3d()\n",
    "plt.show()"
   ]
  },
  {
   "cell_type": "markdown",
   "metadata": {},
   "source": [
    "Let us first create a surface object from our list of contours. This object has smoothing, interpolation and plotting methods which we can use for conveniently constructing our surface"
   ]
  },
  {
   "cell_type": "code",
   "execution_count": 21,
   "metadata": {},
   "outputs": [
    {
     "output_type": "display_data",
     "data": {
      "text/plain": "Canvas(toolbar=Toolbar(toolitems=[('Home', 'Reset original view', 'home', 'home'), ('Back', 'Back to previous …",
      "application/vnd.jupyter.widget-view+json": {
       "version_major": 2,
       "version_minor": 0,
       "model_id": "04dd67b37b7d4b74ab1648408a52f4e1"
      }
     },
     "metadata": {}
    }
   ],
   "source": [
    "artery_surface = pma.arrays.structured.CylindricalSurface.from_contours(contours)\n",
    "plt.figure_3d()\n",
    "artery_surface.plot3d()\n",
    "plt.equal_aspect_3d()\n",
    "plt.show()"
   ]
  },
  {
   "cell_type": "markdown",
   "metadata": {},
   "source": [
    "Observe that we need to reparameterize the curve in order to maintain 'flat' contours when interpolating. "
   ]
  },
  {
   "cell_type": "code",
   "execution_count": 22,
   "metadata": {},
   "outputs": [
    {
     "output_type": "display_data",
     "data": {
      "text/plain": "Canvas(toolbar=Toolbar(toolitems=[('Home', 'Reset original view', 'home', 'home'), ('Back', 'Back to previous …",
      "application/vnd.jupyter.widget-view+json": {
       "version_major": 2,
       "version_minor": 0,
       "model_id": "263e622f82fa45fea9dba02da0a02ce6"
      }
     },
     "metadata": {}
    }
   ],
   "source": [
    "plt.figure_3d()\n",
    "\n",
    "interp_a = artery_surface.interpolate_long(100)\n",
    "interp_b = artery_surface.interpolate_long(100, reparam_curve=centerline.s_frac)\n",
    "# the interpolations which aren't reparameterized\n",
    "interp_a.plot3d(color='red')\n",
    "# the interpolations which are reparameterized by the centerline\n",
    "interp_b.plot3d()\n",
    "\n",
    "plt.equal_aspect_3d_centered(interp_b.mean(-1).mean(-1))\n",
    "plt.show()"
   ]
  },
  {
   "cell_type": "code",
   "execution_count": 23,
   "metadata": {},
   "outputs": [],
   "source": [
    "p = pv.BackgroundPlotter()\n",
    "p.add_mesh(interp_b.to_vtk())\n",
    "p.show()"
   ]
  },
  {
   "cell_type": "markdown",
   "metadata": {},
   "source": [
    "Observe that the mesh generated is still not very good. Thus we must apply filters and interpolate the contours, closing the gap. Filtering is performed via savitzy-golay filtering https://en.wikipedia.org/wiki/Savitzky%E2%80%93Golay_filter and contour interpolation is performed in the same manner as the Contour class."
   ]
  },
  {
   "cell_type": "code",
   "execution_count": 24,
   "metadata": {},
   "outputs": [],
   "source": [
    "interp_b = interp_b.filter(window_size=15)\n",
    "                           \n",
    "p = pv.BackgroundPlotter()\n",
    "p.add_mesh(interp_b.to_vtk())\n",
    "p.show()\n",
    "\n",
    "# significantly better. interpolate around the contour to close the surface\n",
    "\n",
    "interp_b = interp_b.interpolate_contours(100)\n",
    "\n",
    "p = pv.BackgroundPlotter()\n",
    "p.add_mesh(interp_b.to_vtk())\n",
    "p.show()"
   ]
  },
  {
   "cell_type": "markdown",
   "metadata": {},
   "source": [
    "# Cutting Centerlines"
   ]
  },
  {
   "cell_type": "markdown",
   "metadata": {},
   "source": [
    "Let us say we wish to cut the centerline at a fixed distance perpendicular to another centerline. We will need to solve an optimiztion problem which searches for the correct perpendicular distance"
   ]
  },
  {
   "cell_type": "code",
   "execution_count": 25,
   "metadata": {},
   "outputs": [
    {
     "output_type": "display_data",
     "data": {
      "text/plain": "Canvas(toolbar=Toolbar(toolitems=[('Home', 'Reset original view', 'home', 'home'), ('Back', 'Back to previous …",
      "application/vnd.jupyter.widget-view+json": {
       "version_major": 2,
       "version_minor": 0,
       "model_id": "ccb7bf412b634e31839cf23425b86200"
      }
     },
     "metadata": {}
    }
   ],
   "source": [
    "plt.close('all')\n",
    "plt.figure_3d()\n",
    "\n",
    "centerline1 = folder_angio.bifCenterline1.data\n",
    "centerline2 = folder_angio.bifCenterline2.data\n",
    "\n",
    "# The distance is the distance desired between the two points whilst the resolution is the is the error on the centerline\n",
    "point_pairs = centerline1.findPointPairsAtPerpendicularDistance(centerline2, distance=0.01, resolution=0.001)\n",
    "\n",
    "p1 = point_pairs['on_main']\n",
    "p2 = point_pairs['on_input']\n",
    "\n",
    "centerline1.plot3d('r')\n",
    "centerline2.plot3d('b')\n",
    "p1.scatter3d(color='red')\n",
    "p2.scatter3d(color='blue')\n",
    "\n",
    "pma.arrays.Vectorspace(np.stack([p1, p2], -1)).plot3d()\n",
    "plt.equal_aspect_3d()\n",
    "plt.show()"
   ]
  },
  {
   "cell_type": "markdown",
   "metadata": {},
   "source": [
    "# Clipping the Bifurcation"
   ]
  },
  {
   "cell_type": "markdown",
   "metadata": {},
   "source": [
    "Let us say we wish to clip our bifurcation such that we extract only the desired contours. We can essentilly just index using the our bifurcation contours"
   ]
  },
  {
   "cell_type": "code",
   "execution_count": 26,
   "metadata": {},
   "outputs": [],
   "source": [
    "i_clip = np.argmin(np.linalg.norm(centerline2 - p2[:, None], axis=0))\n",
    "main_surface = pma.arrays.structured.CylindricalSurface.from_contours(folder_angio.CrossSectionEllipseSet1.data)\n",
    "bif_surface = pma.arrays.structured.CylindricalSurface.from_contours(folder_angio.CrossSectionEllipseSet2.data[i_clip:])\n"
   ]
  },
  {
   "cell_type": "code",
   "execution_count": 27,
   "metadata": {},
   "outputs": [
    {
     "output_type": "display_data",
     "data": {
      "text/plain": "Canvas(toolbar=Toolbar(toolitems=[('Home', 'Reset original view', 'home', 'home'), ('Back', 'Back to previous …",
      "application/vnd.jupyter.widget-view+json": {
       "version_major": 2,
       "version_minor": 0,
       "model_id": "015cb20034e64ab59c6fc4675a82efba"
      }
     },
     "metadata": {}
    }
   ],
   "source": [
    "plt.figure_3d()\n",
    "main_surface.plot3d()\n",
    "bif_surface.plot3d(color='red')\n",
    "plt.equal_aspect_3d()\n",
    "plt.show()"
   ]
  },
  {
   "cell_type": "markdown",
   "metadata": {},
   "source": [
    "# Merging two Surfaces"
   ]
  },
  {
   "cell_type": "markdown",
   "metadata": {},
   "source": [
    "Merging two surface/volumes must at the moment be performed in an external software. However it is easy to generate the required surfaces. These surfaces can then be exported into CAD converted into volumes and combined."
   ]
  },
  {
   "cell_type": "code",
   "execution_count": 28,
   "metadata": {},
   "outputs": [
    {
     "output_type": "display_data",
     "data": {
      "text/plain": "Canvas(toolbar=Toolbar(toolitems=[('Home', 'Reset original view', 'home', 'home'), ('Back', 'Back to previous …",
      "application/vnd.jupyter.widget-view+json": {
       "version_major": 2,
       "version_minor": 0,
       "model_id": "a608422a5e9e4f58b3a7982ae58bd1c1"
      }
     },
     "metadata": {}
    }
   ],
   "source": [
    "# generating the main vessel\n",
    "main_surface = main_surface.interpolate_long(200, reparam_curve=centerline1.s_frac)\n",
    "main_surface = main_surface.filter(window_size=15)\n",
    "main_surface = main_surface.interpolate_contours(100)\n",
    "plt.figure_3d()\n",
    "main_surface.plot3d()\n",
    "plt.equal_aspect_3d()\n",
    "plt.show()"
   ]
  },
  {
   "cell_type": "code",
   "execution_count": 29,
   "metadata": {},
   "outputs": [
    {
     "output_type": "display_data",
     "data": {
      "text/plain": "Canvas(toolbar=Toolbar(toolitems=[('Home', 'Reset original view', 'home', 'home'), ('Back', 'Back to previous …",
      "application/vnd.jupyter.widget-view+json": {
       "version_major": 2,
       "version_minor": 0,
       "model_id": "15aeb08005344509933f9c212319852e"
      }
     },
     "metadata": {}
    }
   ],
   "source": [
    "# generating the bifurcation vessel\n",
    "plt.figure_3d()\n",
    "bif_surface = bif_surface.filter(window_size=15)\n",
    "bif_surface = bif_surface.interpolate_contours(100)\n",
    "bif_surface = bif_surface.interpolate_long(200)\n",
    "bif_surface = bif_surface.filter(window_size=15)\n",
    "bif_surface = bif_surface.interpolate_contours(100)\n",
    "\n",
    "bif_surface.plot3d()\n",
    "plt.equal_aspect_3d()\n",
    "plt.show()"
   ]
  },
  {
   "cell_type": "markdown",
   "metadata": {},
   "source": [
    "The meshes can now be exported and combined and meshed in an external program"
   ]
  },
  {
   "cell_type": "code",
   "execution_count": 30,
   "metadata": {},
   "outputs": [],
   "source": [
    "p = pv.BackgroundPlotter()\n",
    "main_vtk = main_surface.to_vtk()\n",
    "bif_vtk = bif_surface.to_vtk()\n",
    "main_vtk.save(\"main_surface.vtk\")\n",
    "bif_vtk.save(\"bif_surface.vtk\")\n",
    "p.add_mesh(main_vtk)\n",
    "p.add_mesh(bif_vtk)\n",
    "p.show()\n",
    "# save the vtks then import them into solidworks or a similar software"
   ]
  },
  {
   "cell_type": "markdown",
   "metadata": {},
   "source": [
    "# High Level Reconstruction"
   ]
  },
  {
   "cell_type": "markdown",
   "metadata": {},
   "source": [
    "We provide a high level construction API to quickly construct the surfaces"
   ]
  },
  {
   "cell_type": "code",
   "execution_count": 31,
   "metadata": {
    "tags": []
   },
   "outputs": [
    {
     "output_type": "display_data",
     "data": {
      "text/plain": "<PIL.Image.Image image mode=RGB size=1024x768 at 0x29425829248>",
      "image/png": "[encoded data removed]"
     },
     "metadata": {}
    },
    {
     "output_type": "stream",
     "name": "stderr",
     "text": "ERROR:root:The interactor must be set prior to enabling/disabling widget\n"
    }
   ],
   "source": [
    "mainVesselConstructor = pma.construct.angiography.vessel.Main(\n",
    "    path_angio\n",
    ")\n",
    "mainVessel = mainVesselConstructor.construct(window_size=25)\n",
    "mainVessel.to_vtk().plot()"
   ]
  },
  {
   "cell_type": "code",
   "execution_count": 48,
   "metadata": {
    "tags": []
   },
   "outputs": [
    {
     "output_type": "error",
     "ename": "IndexError",
     "evalue": "too many indices for array",
     "traceback": [
      "\u001b[1;31m---------------------------------------------------------------------------\u001b[0m",
      "\u001b[1;31mIndexError\u001b[0m                                Traceback (most recent call last)",
      "\u001b[1;32m<ipython-input-48-6e0870cfb61c>\u001b[0m in \u001b[0;36m<module>\u001b[1;34m\u001b[0m\n\u001b[0;32m     16\u001b[0m \u001b[0mi_clip\u001b[0m \u001b[1;33m=\u001b[0m \u001b[0mnp\u001b[0m\u001b[1;33m.\u001b[0m\u001b[0margmin\u001b[0m\u001b[1;33m(\u001b[0m\u001b[0mnp\u001b[0m\u001b[1;33m.\u001b[0m\u001b[0mlinalg\u001b[0m\u001b[1;33m.\u001b[0m\u001b[0mnorm\u001b[0m\u001b[1;33m(\u001b[0m\u001b[0mbif_centerline\u001b[0m \u001b[1;33m-\u001b[0m \u001b[0mp2\u001b[0m\u001b[1;33m[\u001b[0m\u001b[1;33m:\u001b[0m\u001b[1;33m,\u001b[0m \u001b[1;32mNone\u001b[0m\u001b[1;33m]\u001b[0m\u001b[1;33m,\u001b[0m \u001b[0maxis\u001b[0m\u001b[1;33m=\u001b[0m\u001b[1;36m0\u001b[0m\u001b[1;33m)\u001b[0m\u001b[1;33m)\u001b[0m\u001b[1;33m\u001b[0m\u001b[1;33m\u001b[0m\u001b[0m\n\u001b[0;32m     17\u001b[0m \u001b[1;33m\u001b[0m\u001b[0m\n\u001b[1;32m---> 18\u001b[1;33m \u001b[0mbifVessel\u001b[0m \u001b[1;33m=\u001b[0m \u001b[0mbif_centerline\u001b[0m\u001b[1;33m[\u001b[0m\u001b[1;33m:\u001b[0m\u001b[1;33m,\u001b[0m\u001b[1;33m:\u001b[0m\u001b[1;33m,\u001b[0m\u001b[0mi_clip\u001b[0m\u001b[1;33m:\u001b[0m\u001b[1;33m]\u001b[0m\u001b[1;33m\u001b[0m\u001b[1;33m\u001b[0m\u001b[0m\n\u001b[0m\u001b[0;32m     19\u001b[0m \u001b[0mmainVessel\u001b[0m\u001b[1;33m.\u001b[0m\u001b[0mto_vtk\u001b[0m\u001b[1;33m(\u001b[0m\u001b[1;33m)\u001b[0m\u001b[1;33m.\u001b[0m\u001b[0msave\u001b[0m\u001b[1;33m(\u001b[0m\u001b[1;34m\"main_surface.vtk\"\u001b[0m\u001b[1;33m)\u001b[0m\u001b[1;33m\u001b[0m\u001b[1;33m\u001b[0m\u001b[0m\n\u001b[0;32m     20\u001b[0m \u001b[0mbifVessel\u001b[0m\u001b[1;33m.\u001b[0m\u001b[0mto_vtk\u001b[0m\u001b[1;33m(\u001b[0m\u001b[1;33m)\u001b[0m\u001b[1;33m.\u001b[0m\u001b[0msave\u001b[0m\u001b[1;33m(\u001b[0m\u001b[1;34m\"bif_surface.vtk\"\u001b[0m\u001b[1;33m)\u001b[0m\u001b[1;33m\u001b[0m\u001b[1;33m\u001b[0m\u001b[0m\n",
      "\u001b[1;31mIndexError\u001b[0m: too many indices for array"
     ]
    }
   ],
   "source": [
    "bifVesselConstructor = pma.construct.angiography.vessel.Bifur(\n",
    "    path_angio\n",
    ")\n",
    "bifVessel = bifVesselConstructor.construct(window_size=25)\n",
    "# bifVessel.to_vtk().plot()\n",
    "main_vtk.save(\"main_surface.vtk\")\n",
    "\n",
    "\n",
    "main_centerline = mainVessel.get_centerline()\n",
    "bif_centerline  = bifVessel.get_centerline()\n",
    "\n",
    "point_pairs = main_centerline.findPointPairsAtPerpendicularDistance(bif_centerline, distance=0.01, resolution=0.001)\n",
    "p1 = point_pairs['on_main']\n",
    "p2 = point_pairs['on_input']\n",
    "\n",
    "i_clip = np.argmin(np.linalg.norm(bif_centerline - p2[:, None], axis=0))\n",
    "\n",
    "bifVessel = bifVessel[:, :, i_clip:]\n",
    "mainVessel.to_vtk().save(\"main_surface.vtk\")\n",
    "bifVessel.to_vtk().save(\"bif_surface.vtk\")\n",
    "np.save(\"main_surface\", mainVessel)\n",
    "np.save(\"bif_surface\", bifVessel)"
   ]
  },
  {
   "cell_type": "code",
   "execution_count": 49,
   "metadata": {},
   "outputs": [
    {
     "output_type": "execute_result",
     "data": {
      "text/plain": "(3, 200)"
     },
     "metadata": {},
     "execution_count": 49
    }
   ],
   "source": [
    "bif_centerline.shape\n"
   ]
  },
  {
   "cell_type": "markdown",
   "metadata": {},
   "source": [
    "# Calculating Normals and curvature"
   ]
  },
  {
   "cell_type": "markdown",
   "metadata": {},
   "source": [
    "The curvature calculations are only implemented for column matrices. We can convert our structured surface to a column matrix using the following method"
   ]
  },
  {
   "cell_type": "code",
   "execution_count": 33,
   "metadata": {
    "tags": []
   },
   "outputs": [
    {
     "output_type": "stream",
     "name": "stdout",
     "text": "(3, 10000)\n"
    }
   ],
   "source": [
    "mainVessel_columnMatrix = mainVessel.toColumnSurface()\n",
    "print(mainVessel_columnMatrix.shape)"
   ]
  },
  {
   "cell_type": "code",
   "execution_count": 34,
   "metadata": {},
   "outputs": [],
   "source": [
    "principle_curvatures, min_curvature_principle_directions = mainVessel_columnMatrix.compute_principle_curvatures(n_processors=5)"
   ]
  },
  {
   "cell_type": "code",
   "execution_count": 35,
   "metadata": {
    "tags": []
   },
   "outputs": [
    {
     "output_type": "stream",
     "name": "stdout",
     "text": "(2, 10000)\n(10000, 3, 2)\n"
    }
   ],
   "source": [
    "print(principle_curvatures.shape)\n",
    "print(min_curvature_principle_directions.shape)"
   ]
  },
  {
   "cell_type": "code",
   "execution_count": 36,
   "metadata": {},
   "outputs": [],
   "source": [
    "mainVessel_vtk = mainVessel_columnMatrix.to_vtk(includeNormals=True, includeCurvature=True, structuredShape=mainVessel.shape)"
   ]
  },
  {
   "cell_type": "code",
   "execution_count": 37,
   "metadata": {},
   "outputs": [
    {
     "output_type": "execute_result",
     "data": {
      "text/plain": "(3, 50, 200)"
     },
     "metadata": {},
     "execution_count": 37
    }
   ],
   "source": [
    "mainVessel.shape"
   ]
  },
  {
   "cell_type": "markdown",
   "metadata": {},
   "source": [
    "Plot the points"
   ]
  },
  {
   "cell_type": "code",
   "execution_count": 38,
   "metadata": {},
   "outputs": [],
   "source": [
    "#maximum_curvature, minimum_curvature, gaussian_curvature, mean_curvature\n",
    "p = pv.BackgroundPlotter()\n",
    "p.add_mesh(mainVessel_vtk, scalars=\"maximum_curvature\")\n",
    "p.show()"
   ]
  },
  {
   "cell_type": "markdown",
   "metadata": {},
   "source": [
    "Plot the glyphs"
   ]
  },
  {
   "cell_type": "code",
   "execution_count": 39,
   "metadata": {},
   "outputs": [],
   "source": [
    "p = pv.BackgroundPlotter()\n",
    "p.add_mesh(mainVessel_vtk.arrows)\n",
    "p.show()"
   ]
  },
  {
   "cell_type": "markdown",
   "metadata": {},
   "source": [
    "We can apply a delaunay triangulation"
   ]
  },
  {
   "cell_type": "code",
   "execution_count": 40,
   "metadata": {},
   "outputs": [],
   "source": [
    "# main_vessel_triangulated = mainVessel_vtk.delaunay_2d() # can play around with pyvista parameters to obtain triangulations"
   ]
  },
  {
   "cell_type": "markdown",
   "metadata": {},
   "source": [
    "Or we can generate a structured grid by reconstructing the structured shape"
   ]
  },
  {
   "cell_type": "code",
   "execution_count": 41,
   "metadata": {},
   "outputs": [
    {
     "output_type": "error",
     "ename": "NameError",
     "evalue": "name 'sTrue' is not defined",
     "traceback": [
      "\u001b[1;31m---------------------------------------------------------------------------\u001b[0m",
      "\u001b[1;31mNameError\u001b[0m                                 Traceback (most recent call last)",
      "\u001b[1;32m<ipython-input-41-2e1f5bd449e7>\u001b[0m in \u001b[0;36m<module>\u001b[1;34m\u001b[0m\n\u001b[0;32m      1\u001b[0m mainVessel_curvatures_and_normals = mainVessel_columnMatrix.to_vtk(\n\u001b[1;32m----> 2\u001b[1;33m             \u001b[0mincludeNormals\u001b[0m\u001b[1;33m=\u001b[0m\u001b[0msTrue\u001b[0m\u001b[1;33m,\u001b[0m \u001b[0mincludeCurvature\u001b[0m\u001b[1;33m=\u001b[0m\u001b[1;32mTrue\u001b[0m\u001b[1;33m,\u001b[0m\u001b[1;33m\u001b[0m\u001b[1;33m\u001b[0m\u001b[0m\n\u001b[0m\u001b[0;32m      3\u001b[0m             structuredShape=mainVessel.shape)\n\u001b[0;32m      4\u001b[0m \u001b[0mp\u001b[0m \u001b[1;33m=\u001b[0m \u001b[0mpv\u001b[0m\u001b[1;33m.\u001b[0m\u001b[0mBackgroundPlotter\u001b[0m\u001b[1;33m(\u001b[0m\u001b[1;33m)\u001b[0m\u001b[1;33m\u001b[0m\u001b[1;33m\u001b[0m\u001b[0m\n\u001b[0;32m      5\u001b[0m \u001b[0mp\u001b[0m\u001b[1;33m.\u001b[0m\u001b[0madd_mesh\u001b[0m\u001b[1;33m(\u001b[0m\u001b[0mmainVessel_curvatures_and_normals\u001b[0m\u001b[1;33m,\u001b[0m \u001b[0mscalars\u001b[0m\u001b[1;33m=\u001b[0m\u001b[1;34m'minimum_curvature'\u001b[0m\u001b[1;33m)\u001b[0m\u001b[1;33m\u001b[0m\u001b[1;33m\u001b[0m\u001b[0m\n",
      "\u001b[1;31mNameError\u001b[0m: name 'sTrue' is not defined"
     ]
    }
   ],
   "source": [
    "mainVessel_curvatures_and_normals = mainVessel_columnMatrix.to_vtk(\n",
    "            includeNormals=sTrue, includeCurvature=True,\n",
    "            structuredShape=mainVessel.shape)\n",
    "p = pv.BackgroundPlotter()\n",
    "p.add_mesh(mainVessel_curvatures_and_normals, scalars='minimum_curvature')\n",
    "p.show()"
   ]
  },
  {
   "cell_type": "code",
   "execution_count": 42,
   "metadata": {},
   "outputs": [
    {
     "output_type": "error",
     "ename": "NameError",
     "evalue": "name 'mainVessel_curvatures_and_normals' is not defined",
     "traceback": [
      "\u001b[1;31m---------------------------------------------------------------------------\u001b[0m",
      "\u001b[1;31mNameError\u001b[0m                                 Traceback (most recent call last)",
      "\u001b[1;32m<ipython-input-42-857e9ae114b9>\u001b[0m in \u001b[0;36m<module>\u001b[1;34m\u001b[0m\n\u001b[0;32m      1\u001b[0m \u001b[0mp\u001b[0m \u001b[1;33m=\u001b[0m \u001b[0mpv\u001b[0m\u001b[1;33m.\u001b[0m\u001b[0mBackgroundPlotter\u001b[0m\u001b[1;33m(\u001b[0m\u001b[1;33m)\u001b[0m\u001b[1;33m\u001b[0m\u001b[1;33m\u001b[0m\u001b[0m\n\u001b[1;32m----> 2\u001b[1;33m \u001b[0mp\u001b[0m\u001b[1;33m.\u001b[0m\u001b[0madd_mesh\u001b[0m\u001b[1;33m(\u001b[0m\u001b[0mmainVessel_curvatures_and_normals\u001b[0m\u001b[1;33m.\u001b[0m\u001b[0marrows\u001b[0m\u001b[1;33m,\u001b[0m \u001b[0mscalars\u001b[0m\u001b[1;33m=\u001b[0m\u001b[1;34m'minimum_curvature'\u001b[0m\u001b[1;33m)\u001b[0m\u001b[1;33m\u001b[0m\u001b[1;33m\u001b[0m\u001b[0m\n\u001b[0m\u001b[0;32m      3\u001b[0m \u001b[0mp\u001b[0m\u001b[1;33m.\u001b[0m\u001b[0mshow\u001b[0m\u001b[1;33m(\u001b[0m\u001b[1;33m)\u001b[0m\u001b[1;33m\u001b[0m\u001b[1;33m\u001b[0m\u001b[0m\n",
      "\u001b[1;31mNameError\u001b[0m: name 'mainVessel_curvatures_and_normals' is not defined"
     ]
    }
   ],
   "source": [
    "p = pv.BackgroundPlotter()\n",
    "p.add_mesh(mainVessel_curvatures_and_normals.arrows, scalars='minimum_curvature')\n",
    "p.show()"
   ]
  },
  {
   "cell_type": "code",
   "execution_count": 43,
   "metadata": {},
   "outputs": [
    {
     "output_type": "execute_result",
     "data": {
      "text/plain": "(3, 50, 200)"
     },
     "metadata": {},
     "execution_count": 43
    }
   ],
   "source": [
    "mainVessel.shape"
   ]
  },
  {
   "cell_type": "code",
   "execution_count": null,
   "metadata": {},
   "outputs": [],
   "source": []
  }
 ],
 "metadata": {
  "file_extension": ".py",
  "kernelspec": {
   "display_name": "Python 3.7.5 64-bit ('_env': venv)",
   "language": "python",
   "name": "python_defaultSpec_1594986088242"
  },
  "language_info": {
   "codemirror_mode": {
    "name": "ipython",
    "version": 3
   },
   "file_extension": ".py",
   "mimetype": "text/x-python",
   "name": "python",
   "nbconvert_exporter": "python",
   "pygments_lexer": "ipython3",
   "version": "3.7.6-final"
  },
  "mimetype": "text/x-python",
  "name": "python",
  "npconvert_exporter": "python",
  "pygments_lexer": "ipython3",
  "version": 3
 },
 "nbformat": 4,
 "nbformat_minor": 4
}