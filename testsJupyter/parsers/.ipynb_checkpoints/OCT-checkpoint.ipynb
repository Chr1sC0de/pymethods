{
 "cells": [
  {
   "cell_type": "markdown",
   "metadata": {},
   "source": [
    "# Parsing A Directory of OCT images"
   ]
  },
  {
   "cell_type": "code",
   "execution_count": 6,
   "metadata": {},
   "outputs": [],
   "source": [
    "import sys\n",
    "sys.path.append('../..')\n",
    "import pymethods as pma\n",
    "import pymethods.pyplot as plt\n",
    "import pathlib as pt\n",
    "import numpy as np\n",
    "from time import time"
   ]
  },
  {
   "cell_type": "code",
   "execution_count": 7,
   "metadata": {},
   "outputs": [],
   "source": [
    "path = pt.Path(\n",
    "    r'D:\\Github\\pymethods\\Datasets\\test_1\\oct'\n",
    ")"
   ]
  },
  {
   "cell_type": "markdown",
   "metadata": {},
   "source": [
    "Instantiate the folder object"
   ]
  },
  {
   "cell_type": "code",
   "execution_count": 8,
   "metadata": {},
   "outputs": [],
   "source": [
    "octFolder = pma.parse.ivoct.Folder(path)"
   ]
  },
  {
   "cell_type": "markdown",
   "metadata": {},
   "source": [
    "A little bit of an aside but within utilts we have a time convenience function"
   ]
  },
  {
   "cell_type": "code",
   "execution_count": 9,
   "metadata": {},
   "outputs": [
    {
     "name": "stdout",
     "output_type": "stream",
     "text": [
      "the total time taken is:  0.005994319915771484\n",
      "the ouput of test is:  100011\n"
     ]
    }
   ],
   "source": [
    "def test(x, potatoe=10):\n",
    "    for i in range(10**5):\n",
    "        x += 1\n",
    "    return x + potatoe\n",
    "\n",
    "time, output = pma.utils.time_func(test, 1, potatoe=10)\n",
    "print('the total time taken is: ', time)\n",
    "print('the ouput of test is: ', output)"
   ]
  },
  {
   "cell_type": "markdown",
   "metadata": {},
   "source": [
    "Now back to business, we can parse the data from our OCT folder by calling the parse method. However as there is quite alot of images we need to parse, the processsing time can be a bit slow"
   ]
  },
  {
   "cell_type": "code",
   "execution_count": 10,
   "metadata": {},
   "outputs": [
    {
     "name": "stderr",
     "output_type": "stream",
     "text": [
      "INFO:root:Extracting Contours and Landmark Data from Images\n"
     ]
    },
    {
     "name": "stdout",
     "output_type": "stream",
     "text": [
      "the total time taken: 34.99690580368042  seconds\n"
     ]
    }
   ],
   "source": [
    "time, outputs = pma.utils.time_func(octFolder.parse,)\n",
    "print('the total time taken:', time,' seconds')"
   ]
  },
  {
   "cell_type": "markdown",
   "metadata": {},
   "source": [
    "We can speed things up by processing images in parallel through multiprocessing."
   ]
  },
  {
   "cell_type": "code",
   "execution_count": 11,
   "metadata": {},
   "outputs": [
    {
     "name": "stderr",
     "output_type": "stream",
     "text": [
      "INFO:root:Extracting Contours and Landmark Data from Images\n"
     ]
    },
    {
     "name": "stdout",
     "output_type": "stream",
     "text": [
      "done\n",
      "the total time taken: 9.966047525405884  seconds\n"
     ]
    }
   ],
   "source": [
    "time, outputs = pma.utils.time_func(octFolder.parse, processors=8)\n",
    "print('the total time taken:', time,' seconds')"
   ]
  },
  {
   "cell_type": "markdown",
   "metadata": {},
   "source": [
    "The data we have parsed can be extracted as a dictionary using the data getter"
   ]
  },
  {
   "cell_type": "code",
   "execution_count": 13,
   "metadata": {},
   "outputs": [
    {
     "name": "stdout",
     "output_type": "stream",
     "text": [
      "dict_keys(['contours', 'landmark', 'id', 'image_files', 'landmark_path'])\n"
     ]
    }
   ],
   "source": [
    "data_dict = octFolder.data()\n",
    "print(data_dict.keys())"
   ]
  },
  {
   "cell_type": "code",
   "execution_count": 14,
   "metadata": {},
   "outputs": [],
   "source": [
    "import matplotlib\n",
    "%matplotlib widget"
   ]
  },
  {
   "cell_type": "markdown",
   "metadata": {},
   "source": [
    "Contours shows a list of contours"
   ]
  },
  {
   "cell_type": "code",
   "execution_count": 16,
   "metadata": {},
   "outputs": [
    {
     "data": {
      "application/vnd.jupyter.widget-view+json": {
       "model_id": "b7b75c5d5f57425c8865791f64807056",
       "version_major": 2,
       "version_minor": 0
      },
      "text/plain": [
       "Canvas(toolbar=Toolbar(toolitems=[('Home', 'Reset original view', 'home', 'home'), ('Back', 'Back to previous …"
      ]
     },
     "metadata": {},
     "output_type": "display_data"
    }
   ],
   "source": [
    "plt.figure_3d()\n",
    "data_dict['contours'][0].scatter3d()\n",
    "plt.show()"
   ]
  },
  {
   "cell_type": "code",
   "execution_count": 18,
   "metadata": {},
   "outputs": [
    {
     "data": {
      "application/vnd.jupyter.widget-view+json": {
       "model_id": "0980a68ed13241e8aeabf7d88e23fd6f",
       "version_major": 2,
       "version_minor": 0
      },
      "text/plain": [
       "Canvas(toolbar=Toolbar(toolitems=[('Home', 'Reset original view', 'home', 'home'), ('Back', 'Back to previous …"
      ]
     },
     "metadata": {},
     "output_type": "display_data"
    },
    {
     "data": {
      "text/plain": [
       "<matplotlib.legend.Legend at 0x20d819f6508>"
      ]
     },
     "execution_count": 18,
     "metadata": {},
     "output_type": "execute_result"
    }
   ],
   "source": [
    "# we can load an OCT image with either the Image class from parse.ivoct or arrays.structured.Image\n",
    "bif_image = pma.parse.ivoct.Image(data_dict['landmark_path'])\n",
    "bif_contour = data_dict['contours'][data_dict['id']]\n",
    "# our landmark is a vector pointint from the origin of the contour to the specified blue dot\n",
    "bif_dot = data_dict['landmark'] + bif_contour.centroid\n",
    "plt.figure()\n",
    "bif_image.show()\n",
    "plt.plot(*bif_contour[0:2,::10], 'b--', label='contour')\n",
    "bif_dot.scatter2d(label='landmark')\n",
    "plt.show()\n",
    "plt.legend()"
   ]
  },
  {
   "cell_type": "markdown",
   "metadata": {},
   "source": [
    "We can now save our parsed data"
   ]
  },
  {
   "cell_type": "code",
   "execution_count": 19,
   "metadata": {},
   "outputs": [],
   "source": [
    "octFolder.save()"
   ]
  },
  {
   "cell_type": "markdown",
   "metadata": {},
   "source": [
    "We can load the data from scratch, starting from a new object by calling the load method."
   ]
  },
  {
   "cell_type": "code",
   "execution_count": 20,
   "metadata": {},
   "outputs": [],
   "source": [
    "octFolder2 = pma.parse.ivoct.Folder(path)\n",
    "octFolder2.load()"
   ]
  },
  {
   "cell_type": "code",
   "execution_count": 21,
   "metadata": {},
   "outputs": [
    {
     "data": {
      "application/vnd.jupyter.widget-view+json": {
       "model_id": "749fec2617164cfaa68ce442d2bdf926",
       "version_major": 2,
       "version_minor": 0
      },
      "text/plain": [
       "Canvas(toolbar=Toolbar(toolitems=[('Home', 'Reset original view', 'home', 'home'), ('Back', 'Back to previous …"
      ]
     },
     "metadata": {},
     "output_type": "display_data"
    },
    {
     "data": {
      "text/plain": [
       "<matplotlib.legend.Legend at 0x20d81c16d48>"
      ]
     },
     "execution_count": 21,
     "metadata": {},
     "output_type": "execute_result"
    }
   ],
   "source": [
    "data_dict = octFolder2.data()\n",
    "# we can load an OCT image using either the Image class from parse.ivoct or arrays.structured.Image\n",
    "bif_image = pma.parse.ivoct.Image(data_dict['landmark_path'])\n",
    "bif_contour = data_dict['contours'][data_dict['id']]\n",
    "# out landmark is a vector pointint from the origin of the contour to the specified blue dot\n",
    "bif_dot = data_dict['landmark'] + bif_contour.centroid\n",
    "plt.figure()\n",
    "bif_image.show()\n",
    "plt.plot(*bif_contour[0:2,::10], 'b--', label='contour')\n",
    "bif_dot.scatter2d(label='landmark')\n",
    "plt.show()\n",
    "plt.legend()"
   ]
  }
 ],
 "metadata": {
  "kernelspec": {
   "display_name": "Python 3",
   "language": "python",
   "name": "python3"
  },
  "language_info": {
   "codemirror_mode": {
    "name": "ipython",
    "version": 3
   },
   "file_extension": ".py",
   "mimetype": "text/x-python",
   "name": "python",
   "nbconvert_exporter": "python",
   "pygments_lexer": "ipython3",
   "version": "3.7.6"
  }
 },
 "nbformat": 4,
 "nbformat_minor": 4
}
