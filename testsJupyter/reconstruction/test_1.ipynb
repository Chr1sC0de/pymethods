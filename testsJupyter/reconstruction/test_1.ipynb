{
 "cells": [
  {
   "cell_type": "code",
   "execution_count": 1,
   "metadata": {},
   "outputs": [],
   "source": [
    "import sys\n",
    "import pymethods as pma\n",
    "import pymethods.pyplot as plt\n",
    "import pathlib as pt\n",
    "import numpy as np\n",
    "from time import time\n",
    "import matplotlib\n",
    "%matplotlib widget"
   ]
  },
  {
   "cell_type": "code",
   "execution_count": 2,
   "metadata": {},
   "outputs": [
    {
     "output_type": "stream",
     "name": "stderr",
     "text": "INFO:root:Extracting Contours and Landmark Data from Images\ndone\n"
    }
   ],
   "source": [
    "path_angio = pt.Path(r'../../Datasets/test_1/angiography')\n",
    "path_oct = pt.Path(r'../../Datasets/test_1/oct')\n",
    "\n",
    "# notice how we use the CenterlinesA to parse the centerlines. This ensures that the centerlines are oriented correctly\n",
    "folder_angio = pma.parse.angiography.CenterlinesA(path_angio)\n",
    "folder_oct = pma.parse.ivoct.Folder(path_oct)\n",
    "try:\n",
    "    folder_oct.load()\n",
    "except:\n",
    "    folder_oct.parse(processors=8)"
   ]
  },
  {
   "cell_type": "markdown",
   "metadata": {},
   "source": [
    "let us first extract the necessary angiography data"
   ]
  },
  {
   "cell_type": "markdown",
   "metadata": {},
   "source": [
    "## Orienting the centerlines"
   ]
  },
  {
   "cell_type": "code",
   "execution_count": 3,
   "metadata": {},
   "outputs": [],
   "source": [
    "centerline_main, centerline_bifur = folder_angio.parse().values()"
   ]
  },
  {
   "cell_type": "markdown",
   "metadata": {},
   "source": [
    "We must note that the CenterlinesA and the CenterlinesB class both contain a parse method which orients the centerlines, bifCenterlines 1 and 2 and centerlines 1 and 2 respectively. We see that the centerlines are now ordered distal to proximal"
   ]
  },
  {
   "cell_type": "code",
   "execution_count": 4,
   "metadata": {},
   "outputs": [
    {
     "output_type": "display_data",
     "data": {
      "text/plain": "Canvas(toolbar=Toolbar(toolitems=[('Home', 'Reset original view', 'home', 'home'), ('Back', 'Back to previous …",
      "application/vnd.jupyter.widget-view+json": {
       "version_major": 2,
       "version_minor": 0,
       "model_id": "1e1bc774e3f344bbaf64ba4326025c9f"
      }
     },
     "metadata": {}
    }
   ],
   "source": [
    "plt.figure_3d()\n",
    "centerline_main.plot3d('g')\n",
    "main_tangents = centerline_main.transport_frames()[:, :, -1]\n",
    "centerline_bifur.plot3d('r')\n",
    "transportFrames = centerline_main.transport_frames()\n",
    "\n",
    "for i, (center, frame) in enumerate(zip(centerline_main.T, transportFrames)):\n",
    "    if i%50 == 0:\n",
    "        pma.arrays.ColumnVector(frame[:, -1]).quiver3d(origin=center)\n",
    "        \n",
    "transportFrames = centerline_bifur.transport_frames()\n",
    "for i, (center, frame) in enumerate(zip(centerline_bifur.T, transportFrames)):\n",
    "    if i%50 == 0:\n",
    "        pma.arrays.ColumnVector(frame[:, -1]).quiver3d(origin=center)\n",
    "\n",
    "plt.show()"
   ]
  },
  {
   "cell_type": "markdown",
   "metadata": {},
   "source": [
    "## Scaling the OCT Data"
   ]
  },
  {
   "cell_type": "markdown",
   "metadata": {},
   "source": [
    "To generate our surface we need to know the spacing between each frame and the total pixels per mm per image. This is extracted externally"
   ]
  },
  {
   "cell_type": "code",
   "execution_count": 5,
   "metadata": {},
   "outputs": [],
   "source": [
    "mm_per_pixel = 0.009356\n",
    "mm_per_frame = 0.2"
   ]
  },
  {
   "cell_type": "markdown",
   "metadata": {},
   "source": [
    "We first need to scale our oct data. The ivoct.Folder object has a convenience function which performs the scaling for us and provides us with the data necessary for reconstruction"
   ]
  },
  {
   "cell_type": "code",
   "execution_count": 6,
   "metadata": {},
   "outputs": [],
   "source": [
    "contours, landmark, frame_id, image_files, landmark_path = folder_oct.data_scaled(mm_per_pixel).values()"
   ]
  },
  {
   "cell_type": "markdown",
   "metadata": {},
   "source": [
    "# Positioning the contours"
   ]
  },
  {
   "cell_type": "markdown",
   "metadata": {},
   "source": [
    "Since we are translating the contours from their centroid, to approximate the location of our artery we shall need to know where our landmark is located. We have specified the landmark as the location where the bifurcation centerline is passing through and is shown as a blue spot along the OCT image. We can do so by approximating the point perpendicular to the main centerline which lies on the bifurcation centerline for the distance specified by our landmark"
   ]
  },
  {
   "cell_type": "code",
   "execution_count": 7,
   "metadata": {},
   "outputs": [
    {
     "output_type": "display_data",
     "data": {
      "text/plain": "Canvas(toolbar=Toolbar(toolitems=[('Home', 'Reset original view', 'home', 'home'), ('Back', 'Back to previous …",
      "application/vnd.jupyter.widget-view+json": {
       "version_major": 2,
       "version_minor": 0,
       "model_id": "a3b267123af544158f92916f496e8038"
      }
     },
     "metadata": {}
    }
   ],
   "source": [
    "plt.figure()\n",
    "pma.parse.ivoct.Image(landmark_path).show()\n",
    "plt.show()"
   ]
  },
  {
   "cell_type": "markdown",
   "metadata": {},
   "source": [
    "The vector which passes from the contour centroid to the landmark is given by landmark. We can obtain this distance from the bar property"
   ]
  },
  {
   "cell_type": "code",
   "execution_count": 8,
   "metadata": {},
   "outputs": [
    {
     "output_type": "stream",
     "name": "stdout",
     "text": "the landmark vector:\n [[-0.75781287]\n [-1.72831903]\n [ 0.        ]]\n the length of the landmark vector: 1.8871584470562304\n"
    }
   ],
   "source": [
    "print('the landmark vector:\\n', landmark)\n",
    "print(' the length of the landmark vector:', landmark.bar)"
   ]
  },
  {
   "cell_type": "markdown",
   "metadata": {},
   "source": [
    "Every curve has a method which calculates the point pairs at a specified distance between another curves. Bellow we show the output as the dictionary containing the point on the main centerline, the bifurcation centerline, the error and the vector fromt he main to bifur centerlines"
   ]
  },
  {
   "cell_type": "code",
   "execution_count": 9,
   "metadata": {},
   "outputs": [
    {
     "output_type": "stream",
     "name": "stdout",
     "text": "the data required:\n {'on_main': Vector([-40.9431932 , -10.80235371, -45.31667715]), 'on_input': Vector([-39.65743256, -10.63347054, -46.68571854]), 'error': 0.0014288017602346326, 'vector': Vector([ 1.28576065,  0.16888318, -1.36904139])}\n"
    }
   ],
   "source": [
    "perpendicularPointDict = centerline_main.findPointPairsAtPerpendicularDistance(centerline_bifur, distance=landmark.bar, resolution=0.0001)\n",
    "print(\"the data required:\\n\", perpendicularPointDict)"
   ]
  },
  {
   "cell_type": "code",
   "execution_count": 10,
   "metadata": {},
   "outputs": [],
   "source": [
    "pt_main, pt_bifur, error, vector = perpendicularPointDict.values()"
   ]
  },
  {
   "cell_type": "code",
   "execution_count": 11,
   "metadata": {},
   "outputs": [
    {
     "output_type": "display_data",
     "data": {
      "text/plain": "Canvas(toolbar=Toolbar(toolitems=[('Home', 'Reset original view', 'home', 'home'), ('Back', 'Back to previous …",
      "application/vnd.jupyter.widget-view+json": {
       "version_major": 2,
       "version_minor": 0,
       "model_id": "f7bd77f725814719982183ec45d407a2"
      }
     },
     "metadata": {}
    }
   ],
   "source": [
    "plt.figure_3d()\n",
    "centerline_main.plot3d('b')\n",
    "centerline_bifur.plot3d('r')\n",
    "vector.quiver3d(origin=pt_main)\n",
    "pt_main.scatter3d(color='green')\n",
    "pt_bifur.scatter3d(color='red')\n",
    "plt.equal_aspect_3d_centered(pt_main)\n",
    "plt.show()"
   ]
  },
  {
   "cell_type": "markdown",
   "metadata": {},
   "source": [
    "Originally our transport frames are not oriented along the centerline. But since we now have an approximation to of the orientation of our frames we can now orient our transport frames."
   ]
  },
  {
   "cell_type": "code",
   "execution_count": 12,
   "metadata": {},
   "outputs": [
    {
     "output_type": "display_data",
     "data": {
      "text/plain": "Canvas(toolbar=Toolbar(toolitems=[('Home', 'Reset original view', 'home', 'home'), ('Back', 'Back to previous …",
      "application/vnd.jupyter.widget-view+json": {
       "version_major": 2,
       "version_minor": 0,
       "model_id": "d86a88baefb3432482c308182b057397"
      }
     },
     "metadata": {}
    }
   ],
   "source": [
    "orientedTransportFrames, origin_id = centerline_main.oriented_transport_frames(\n",
    "    pt_main, vector\n",
    ")\n",
    "mainTransportFrames = centerline_main.transport_frames()\n",
    "plt.figure_3d()\n",
    "centerline_main.plot3d('g')\n",
    "centerline_bifur.plot3d('r')\n",
    "\n",
    "# the now oriented transport frames\n",
    "pma.arrays.Basis(orientedTransportFrames[origin_id]).quiver3d(\n",
    "    origin=centerline_main[:, origin_id], color='orange'\n",
    ")\n",
    "\n",
    "# the now original transport frames\n",
    "pma.arrays.Basis(mainTransportFrames[origin_id]).quiver3d(\n",
    "    origin=centerline_main[:, origin_id], color='green'\n",
    ")\n",
    "vector.quiver3d(\n",
    "    origin=centerline_main[:, origin_id], color='blue'\n",
    ")\n",
    "\n",
    "contour = contours[frame_id]\n",
    "contour = mainTransportFrames[origin_id] @ (contour - contour.centroid) + centerline_main[:, origin_id, None]\n",
    "\n",
    "contour.plot3d()\n",
    "\n",
    "plt.equal_aspect_3d_centered(pt_main)\n",
    "plt.show()"
   ]
  },
  {
   "cell_type": "markdown",
   "metadata": {},
   "source": [
    "However this is not yet enough to orient our contours. We still need to ensure that the spacing between the frames is correct. To do so we estimate the fraction along the main centerline our landmark is located"
   ]
  },
  {
   "cell_type": "code",
   "execution_count": 13,
   "metadata": {},
   "outputs": [
    {
     "output_type": "stream",
     "name": "stdout",
     "text": "0.7106360138671896\n"
    }
   ],
   "source": [
    "s_location_landmark = centerline_main.s_frac[origin_id]\n",
    "print(s_location_landmark)"
   ]
  },
  {
   "cell_type": "markdown",
   "metadata": {},
   "source": [
    "From here we can now approximate the fraction along the artery where the frames are located"
   ]
  },
  {
   "cell_type": "code",
   "execution_count": 14,
   "metadata": {},
   "outputs": [
    {
     "output_type": "stream",
     "name": "stdout",
     "text": "0.005654017394362266\n"
    }
   ],
   "source": [
    "frac_per_frame = mm_per_frame/centerline_main.s_tot\n",
    "print(frac_per_frame)"
   ]
  },
  {
   "cell_type": "markdown",
   "metadata": {},
   "source": [
    "Thus we can figure out the required fractions to interpolate our centerline"
   ]
  },
  {
   "cell_type": "code",
   "execution_count": 15,
   "metadata": {},
   "outputs": [
    {
     "output_type": "display_data",
     "data": {
      "text/plain": "Canvas(toolbar=Toolbar(toolitems=[('Home', 'Reset original view', 'home', 'home'), ('Back', 'Back to previous …",
      "application/vnd.jupyter.widget-view+json": {
       "version_major": 2,
       "version_minor": 0,
       "model_id": "44ed98dc5e53454cbc8e2d16005cbd91"
      }
     },
     "metadata": {}
    }
   ],
   "source": [
    "plt.figure_3d()\n",
    "# calculate the spacing distal to the landmark\n",
    "distal_half = pma.utils.gap_space(s_location_landmark, 0, frac_per_frame)\n",
    "# calculate the spacing proximal to the landmark\n",
    "proximal_half = pma.utils.gap_space(s_location_landmark, 1, frac_per_frame)[:-1]\n",
    "\n",
    "#for visualiztion purposes\n",
    "main_centerlin_distal = pma.arrays.Curve(centerline_main(distal_half))\n",
    "main_centerlin_proximal = pma.arrays.Curve(centerline_main(proximal_half))\n",
    "\n",
    "centerline_main.plot3d('g')\n",
    "centerline_bifur.plot3d('r')\n",
    "                                           \n",
    "main_centerlin_distal.plot3d('r--')\n",
    "main_centerlin_proximal.plot3d('b--')\n",
    "centerline_main[:, origin_id].scatter3d()\n",
    "plt.equal_aspect_3d_centered(pt_main)\n",
    "plt.show()"
   ]
  },
  {
   "cell_type": "markdown",
   "metadata": {},
   "source": [
    "We can now calculate the required arc length fraction to obtain the required centerline"
   ]
  },
  {
   "cell_type": "code",
   "execution_count": 16,
   "metadata": {},
   "outputs": [],
   "source": [
    "s_req = np.concatenate(\n",
    "        [distal_half, proximal_half[1:]]\n",
    ")\n",
    "s_req.sort()\n",
    "interpolated_centerline = centerline_main(s_req)\n",
    "\n",
    "interpolated_landmark = len(distal_half)\n",
    ""
   ]
  },
  {
   "cell_type": "markdown",
   "metadata": {},
   "source": [
    "The portion of the centerline used can now be calculated"
   ]
  },
  {
   "cell_type": "code",
   "execution_count": 17,
   "metadata": {},
   "outputs": [
    {
     "output_type": "stream",
     "name": "stdout",
     "text": "69\n171\n"
    }
   ],
   "source": [
    "centerline_start = interpolated_landmark-frame_id\n",
    "centerline_end = centerline_start + len(contours)\n",
    "print(centerline_start)\n",
    "print(centerline_end)\n",
    "# we should assert that the centerline start is greater than 0\n",
    "assert centerline_start > -1\n",
    "# we should assert that the amount of frames from the landmark is less than the interpolated centerline\n",
    "assert centerline_end < interpolated_centerline.shape[-1]"
   ]
  },
  {
   "cell_type": "code",
   "execution_count": 18,
   "metadata": {},
   "outputs": [
    {
     "output_type": "display_data",
     "data": {
      "text/plain": "Canvas(toolbar=Toolbar(toolitems=[('Home', 'Reset original view', 'home', 'home'), ('Back', 'Back to previous …",
      "application/vnd.jupyter.widget-view+json": {
       "version_major": 2,
       "version_minor": 0,
       "model_id": "c68f1d8bf15040449ba7e6f2c1fb69d3"
      }
     },
     "metadata": {}
    }
   ],
   "source": [
    "transportFrames, origin_id = interpolated_centerline.oriented_transport_frames(interpolated_centerline[:, interpolated_landmark, None], vector)\n",
    "translated_contours = []\n",
    "\n",
    "\n",
    "for j, i in enumerate(range(centerline_start, centerline_end)):\n",
    "    contour = contours[j]\n",
    "    contour = pma.math.make_3d(contour)\n",
    "    window_size = pma.utils.make_odd(\n",
    "        contour.shape[-1]//100)\n",
    "    contour = pma.arrays.Contour(contour).filter(window_size, 3)\n",
    "    contour = contour(np.linspace(0, 1, 100))\n",
    "    contour = contour - contour.centroid\n",
    "    origin = interpolated_centerline[:, i].make_column()\n",
    "    basis = transportFrames[i]\n",
    "    contour =  (basis @ contour) + origin\n",
    "    translated_contours.append(contour)\n",
    "\n",
    "surface = pma.arrays.structured.CylindricalSurface.from_contours(translated_contours)\n",
    "surface.interpolate_long(300)\n",
    "surface = surface.filter(window_size=15)\n",
    "surface = surface.interpolate_contours(100)\n",
    "plt.figure_3d()\n",
    "surface.plot3d()\n",
    "plt.equal_aspect_3d()\n",
    "plt.show()\n",
    "    "
   ]
  },
  {
   "cell_type": "markdown",
   "metadata": {},
   "source": [
    "# High Level API"
   ]
  },
  {
   "cell_type": "code",
   "execution_count": 19,
   "metadata": {},
   "outputs": [
    {
     "output_type": "stream",
     "name": "stderr",
     "text": "INFO:root:OCT data not found, running oct.parse()\nINFO:root:Extracting Contours and Landmark Data from Images\ndone\n"
    }
   ],
   "source": [
    "import pyvista as pv\n",
    "path = pt.Path(r'../../Datasets/test_1')\n",
    "construct_vessel = pma.construct.ivoct.VesselSurface(path)\n",
    "\n",
    "surface = construct_vessel.construct(\n",
    "    mm_per_frame=mm_per_frame,\n",
    "    mm_per_pixel=mm_per_pixel,\n",
    "    processors=4,\n",
    "    centerline_type='A',\n",
    "    surface_filter=25,\n",
    "    interpolate_contours=360,\n",
    "    centerlineResolution=0.001,\n",
    ")\n",
    "p = pv.BackgroundPlotter()\n",
    "mesh = surface.to_vtk()\n",
    "p.add_mesh(mesh)\n",
    "p.show()"
   ]
  },
  {
   "cell_type": "code",
   "execution_count": 20,
   "metadata": {},
   "outputs": [],
   "source": [
    "normals, psurf = surface.calculate_normals(return_psurf=True)"
   ]
  },
  {
   "cell_type": "code",
   "execution_count": 21,
   "metadata": {},
   "outputs": [],
   "source": [
    "psurf.check_all_normals()"
   ]
  },
  {
   "cell_type": "code",
   "execution_count": null,
   "metadata": {},
   "outputs": [],
   "source": []
  }
 ],
 "metadata": {
  "kernelspec": {
   "display_name": "Python 3.7.6 64-bit ('pymethodsEnv': venv)",
   "language": "python",
   "name": "python37664bitpymethodsenvvenv7089e0e63e2e4d678027aec8555f0714"
  },
  "language_info": {
   "codemirror_mode": {
    "name": "ipython",
    "version": 3
   },
   "file_extension": ".py",
   "mimetype": "text/x-python",
   "name": "python",
   "nbconvert_exporter": "python",
   "pygments_lexer": "ipython3",
   "version": "3.7.6-final"
  }
 },
 "nbformat": 4,
 "nbformat_minor": 4
}